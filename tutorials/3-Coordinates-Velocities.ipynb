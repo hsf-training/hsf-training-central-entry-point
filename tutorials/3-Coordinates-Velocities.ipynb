{
 "cells": [
  {
   "cell_type": "markdown",
   "metadata": {},
   "source": [
    "# Astronomical Coordinates 3: Working with Velocity Data in astropy.coordinates\n",
    "\n",
    "## Authors\n",
    "Adrian Price-Whelan\n",
    "\n",
    "## Learning Goals\n",
    "* Introduce how to represent and transform velocity data in `SkyCoord` objects\n",
    "* Demonstrate how to predict the position of a star at a time using its proper motion\n",
    "\n",
    "## Keywords\n",
    "coordinates, OOP, astroquery, gaia\n",
    "\n",
    "\n",
    "## Summary\n",
    "\n",
    "In the previous tutorial in this series, we showed how astronomical *positional* coordinates can be represented and transformed in Python using the `SkyCoord` object ([docs](https://docs.astropy.org/en/stable/coordinates/skycoord.html)). Many sources, especially stars (thanks to the Gaia mission), have measured velocities or measured components of their velocity (e.g., just proper motion, or just radial velocity).\n",
    "\n",
    "In this tutorial, we will explore how the `astropy.coordinates` package can be used to represent and transform astronomical coordinates that have associated velocity data. You may find it helpful to keep [the Astropy documentation for the coordinates package](http://docs.astropy.org/en/stable/coordinates/index.html) open alongside this tutorial for reference or additional reading. In the text below, you may also see some links that look like ([docs](http://docs.astropy.org/en/stable/coordinates/index.html)). These links will take you to parts of the documentation that are directly relevant to the cells from which they link. \n",
    "\n",
    "*Note: This is the 3rd tutorial in a series of tutorials about astropy.coordinates. If you are new to astropy.coordinates, you may want to start from the beginning or an earlier tutorial.*\n",
    "- [Previous tutorial: Astronomical Coordinates 2 - Transforming Coordinate Systems and Representations¶](2-Coordinates-Transforms)\n",
    "- [Next tutorial: Astronomical Coordinates 4 - Cross-matching Catalogs](4-Coordinates-Crossmatch)"
   ]
  },
  {
   "cell_type": "markdown",
   "metadata": {},
   "source": [
    "## Imports\n",
    "\n",
    "We start by importing some general packages we will need below:"
   ]
  },
  {
   "cell_type": "code",
   "execution_count": 1,
   "metadata": {
    "execution": {
     "iopub.execute_input": "2022-08-24T19:12:13.357959Z",
     "iopub.status.busy": "2022-08-24T19:12:13.357514Z",
     "iopub.status.idle": "2022-08-24T19:12:14.587072Z",
     "shell.execute_reply": "2022-08-24T19:12:14.586283Z"
    }
   },
   "outputs": [],
   "source": [
    "import warnings\n",
    "\n",
    "import matplotlib.pyplot as plt\n",
    "%matplotlib inline\n",
    "import numpy as np\n",
    "\n",
    "from astropy import units as u\n",
    "from astropy.coordinates import SkyCoord, Distance, Galactic\n",
    "import astropy.coordinates as coord\n",
    "from astropy.io import fits\n",
    "from astropy.table import QTable\n",
    "from astropy.time import Time\n",
    "from astropy.utils.data import download_file\n",
    "from astropy.wcs import WCS\n",
    "\n",
    "from astroquery.gaia import Gaia"
   ]
  },
  {
   "cell_type": "markdown",
   "metadata": {},
   "source": [
    "## More Than Sky Positions: Including Velocity Data in `SkyCoord`\n",
    "\n",
    "As we have seen in the previous tutorials, the `SkyCoord` object can be used to store scalars or arrays of positional coordinate information and supports transforming between different coordinate frames and representations. But  `astropy.coordinates` also supports representing and transforming *velocity* information along with positions ([docs](http://docs.astropy.org/en/latest/coordinates/velocities.html)).\n",
    "\n",
    "## Passing Velocity Data into `SkyCoord`\n",
    "\n",
    "Velocity components are passed in to `SkyCoord` in the same way that positional components are specified: As arguments to the `SkyCoord` class. For example, to create a `SkyCoord` to represent a sky position and a proper motion in the (default) ICRS coordinate frame, in addition to the position components `ra`, `dec`, we can pass in values for the proper motion components `pm_ra_cosdec`, `pm_dec` (\"pm\" for \"proper motion\"):"
   ]
  },
  {
   "cell_type": "code",
   "execution_count": 2,
   "metadata": {
    "execution": {
     "iopub.execute_input": "2022-08-24T19:12:14.591956Z",
     "iopub.status.busy": "2022-08-24T19:12:14.591508Z",
     "iopub.status.idle": "2022-08-24T19:12:14.604138Z",
     "shell.execute_reply": "2022-08-24T19:12:14.603476Z"
    }
   },
   "outputs": [
    {
     "data": {
      "text/plain": [
       "<SkyCoord (ICRS): (ra, dec) in deg\n",
       "    (10., 20.)\n",
       " (pm_ra_cosdec, pm_dec) in mas / yr\n",
       "    (1., 2.)>"
      ]
     },
     "execution_count": 2,
     "metadata": {},
     "output_type": "execute_result"
    }
   ],
   "source": [
    "SkyCoord(\n",
    "    ra=10*u.deg, \n",
    "    dec=20*u.deg,\n",
    "    pm_ra_cosdec=1*u.mas/u.yr,\n",
    "    pm_dec=2*u.mas/u.yr)"
   ]
  },
  {
   "cell_type": "markdown",
   "metadata": {},
   "source": [
    "Here, you may notice that the proper motion in right ascension has \"cosdec\" in the name: This is to explicitly note that the input here is expected to be the proper motion scaled by the cosine of the declination, which accounts for the fact that a change in longitude (right ascension) has different physical length at different latitudes (declinations).\n",
    "\n",
    "Like the examples in previous tutorials demonstrated for positional coordinates, we can also create an array-valued `SkyCoord` object by passing in arrays of data for all of the components:"
   ]
  },
  {
   "cell_type": "code",
   "execution_count": 3,
   "metadata": {
    "execution": {
     "iopub.execute_input": "2022-08-24T19:12:14.607523Z",
     "iopub.status.busy": "2022-08-24T19:12:14.607041Z",
     "iopub.status.idle": "2022-08-24T19:12:14.618087Z",
     "shell.execute_reply": "2022-08-24T19:12:14.617430Z"
    }
   },
   "outputs": [
    {
     "data": {
      "text/plain": [
       "<SkyCoord (ICRS): (ra, dec) in deg\n",
       "    [( 0. ,  5.  ), ( 2.5,  8.75), ( 5. , 12.5 ), ( 7.5, 16.25),\n",
       "     (10. , 20.  )]\n",
       " (pm_ra_cosdec, pm_dec) in mas / yr\n",
       "    [(-5. , -5. ), (-2.5, -2.5), ( 0. ,  0. ), ( 2.5,  2.5), ( 5. ,  5. )]>"
      ]
     },
     "execution_count": 3,
     "metadata": {},
     "output_type": "execute_result"
    }
   ],
   "source": [
    "SkyCoord(\n",
    "    ra=np.linspace(0, 10, 5)*u.deg, \n",
    "    dec=np.linspace(5, 20, 5)*u.deg,\n",
    "    pm_ra_cosdec=np.linspace(-5, 5, 5)*u.mas/u.yr,\n",
    "    pm_dec=np.linspace(-5, 5, 5)*u.mas/u.yr)"
   ]
  },
  {
   "cell_type": "markdown",
   "metadata": {},
   "source": [
    "However, for some of the examples below we will continue to use scalar values for brevity. \n",
    "\n",
    "You can also specify radial velocity data with the `radial_velocity` argument:"
   ]
  },
  {
   "cell_type": "code",
   "execution_count": 4,
   "metadata": {
    "execution": {
     "iopub.execute_input": "2022-08-24T19:12:14.621697Z",
     "iopub.status.busy": "2022-08-24T19:12:14.621303Z",
     "iopub.status.idle": "2022-08-24T19:12:14.631087Z",
     "shell.execute_reply": "2022-08-24T19:12:14.630391Z"
    }
   },
   "outputs": [
    {
     "data": {
      "text/plain": [
       "<SkyCoord (ICRS): (ra, dec) in deg\n",
       "    (10., 20.)\n",
       " (pm_ra_cosdec, pm_dec, radial_velocity) in (mas / yr, mas / yr, km / s)\n",
       "    (1., 2., 100.)>"
      ]
     },
     "execution_count": 4,
     "metadata": {},
     "output_type": "execute_result"
    }
   ],
   "source": [
    "velocity_coord = SkyCoord(\n",
    "    ra=10*u.deg, \n",
    "    dec=20*u.deg,\n",
    "    pm_ra_cosdec=1*u.mas/u.yr,\n",
    "    pm_dec=2*u.mas/u.yr,\n",
    "    radial_velocity=100*u.km/u.s)\n",
    "velocity_coord"
   ]
  },
  {
   "cell_type": "markdown",
   "metadata": {},
   "source": [
    "The component data can then be accessed using the same names used to pass in the velocity components:"
   ]
  },
  {
   "cell_type": "code",
   "execution_count": 5,
   "metadata": {
    "execution": {
     "iopub.execute_input": "2022-08-24T19:12:14.634038Z",
     "iopub.status.busy": "2022-08-24T19:12:14.633804Z",
     "iopub.status.idle": "2022-08-24T19:12:14.642135Z",
     "shell.execute_reply": "2022-08-24T19:12:14.641518Z"
    }
   },
   "outputs": [
    {
     "data": {
      "text/latex": [
       "$1 \\; \\mathrm{\\frac{mas}{yr}}$"
      ],
      "text/plain": [
       "<Quantity 1. mas / yr>"
      ]
     },
     "execution_count": 5,
     "metadata": {},
     "output_type": "execute_result"
    }
   ],
   "source": [
    "velocity_coord.pm_ra_cosdec"
   ]
  },
  {
   "cell_type": "code",
   "execution_count": 6,
   "metadata": {
    "execution": {
     "iopub.execute_input": "2022-08-24T19:12:14.645272Z",
     "iopub.status.busy": "2022-08-24T19:12:14.644815Z",
     "iopub.status.idle": "2022-08-24T19:12:14.651896Z",
     "shell.execute_reply": "2022-08-24T19:12:14.651274Z"
    }
   },
   "outputs": [
    {
     "data": {
      "text/latex": [
       "$100 \\; \\mathrm{\\frac{km}{s}}$"
      ],
      "text/plain": [
       "<Quantity 100. km / s>"
      ]
     },
     "execution_count": 6,
     "metadata": {},
     "output_type": "execute_result"
    }
   ],
   "source": [
    "velocity_coord.radial_velocity"
   ]
  },
  {
   "cell_type": "markdown",
   "metadata": {},
   "source": [
    "A `SkyCoord` object with velocity data can be transformed to other frames just like the position-only coordinate objects we used in the previous tutorials:"
   ]
  },
  {
   "cell_type": "code",
   "execution_count": 7,
   "metadata": {
    "execution": {
     "iopub.execute_input": "2022-08-24T19:12:14.655217Z",
     "iopub.status.busy": "2022-08-24T19:12:14.654594Z",
     "iopub.status.idle": "2022-08-24T19:12:14.674781Z",
     "shell.execute_reply": "2022-08-24T19:12:14.674126Z"
    }
   },
   "outputs": [
    {
     "data": {
      "text/plain": [
       "<SkyCoord (Galactic): (l, b) in deg\n",
       "    (119.26936774, -42.79039286)\n",
       " (pm_l_cosb, pm_b, radial_velocity) in (mas / yr, mas / yr, km / s)\n",
       "    (1.11917063, 1.93583499, 100.)>"
      ]
     },
     "execution_count": 7,
     "metadata": {},
     "output_type": "execute_result"
    }
   ],
   "source": [
    "velocity_coord_gal = velocity_coord.transform_to(Galactic())\n",
    "velocity_coord_gal"
   ]
  },
  {
   "cell_type": "markdown",
   "metadata": {},
   "source": [
    "Note that, like the position components, which change from `ra`,`dec` to `l`,`b`, the proper motion component names have changed to reflect naming conventions for the component names in a given frame: `pm_ra_cosdec` and `pm_dec` have become `pm_l_cosb` and `pm_b`:"
   ]
  },
  {
   "cell_type": "code",
   "execution_count": 8,
   "metadata": {
    "execution": {
     "iopub.execute_input": "2022-08-24T19:12:14.679150Z",
     "iopub.status.busy": "2022-08-24T19:12:14.678741Z",
     "iopub.status.idle": "2022-08-24T19:12:14.684605Z",
     "shell.execute_reply": "2022-08-24T19:12:14.684064Z"
    }
   },
   "outputs": [
    {
     "data": {
      "text/latex": [
       "$1.1191706 \\; \\mathrm{\\frac{mas}{yr}}$"
      ],
      "text/plain": [
       "<Quantity 1.11917063 mas / yr>"
      ]
     },
     "execution_count": 8,
     "metadata": {},
     "output_type": "execute_result"
    }
   ],
   "source": [
    "velocity_coord_gal.pm_l_cosb"
   ]
  },
  {
   "cell_type": "code",
   "execution_count": 9,
   "metadata": {
    "execution": {
     "iopub.execute_input": "2022-08-24T19:12:14.688215Z",
     "iopub.status.busy": "2022-08-24T19:12:14.687745Z",
     "iopub.status.idle": "2022-08-24T19:12:14.692553Z",
     "shell.execute_reply": "2022-08-24T19:12:14.692037Z"
    }
   },
   "outputs": [
    {
     "data": {
      "text/latex": [
       "$1.935835 \\; \\mathrm{\\frac{mas}{yr}}$"
      ],
      "text/plain": [
       "<Quantity 1.93583499 mas / yr>"
      ]
     },
     "execution_count": 9,
     "metadata": {},
     "output_type": "execute_result"
    }
   ],
   "source": [
    "velocity_coord_gal.pm_b"
   ]
  },
  {
   "cell_type": "markdown",
   "metadata": {},
   "source": [
    "An important caveat to note when transforming a `SkyCoord` object with velocity data is that some reference frames require knowing the distances, or the full velocity vectors (i.e. proper motion components and radial velocity) in order to transform the velocities correctly. For example, a `SkyCoord` with only sky position and proper motion data cannot be transformed to a frame with a positional or velocity offset, such as the `Galactocentric` frame ([docs](https://docs.astropy.org/en/stable/coordinates/galactocentric.html))"
   ]
  },
  {
   "cell_type": "code",
   "execution_count": 10,
   "metadata": {
    "execution": {
     "iopub.execute_input": "2022-08-24T19:12:14.695709Z",
     "iopub.status.busy": "2022-08-24T19:12:14.695475Z",
     "iopub.status.idle": "2022-08-24T19:12:15.863118Z",
     "shell.execute_reply": "2022-08-24T19:12:15.862249Z"
    },
    "tags": [
     "raises-exception"
    ]
   },
   "outputs": [
    {
     "ename": "ConvertError",
     "evalue": "Transforming to/from a Galactocentric frame requires a 3D coordinate, e.g. (angle, angle, distance) or (x, y, z).",
     "output_type": "error",
     "traceback": [
      "\u001b[0;31m---------------------------------------------------------------------------\u001b[0m",
      "\u001b[0;31mConvertError\u001b[0m                              Traceback (most recent call last)",
      "Input \u001b[0;32mIn [10]\u001b[0m, in \u001b[0;36m<cell line: 8>\u001b[0;34m()\u001b[0m\n\u001b[1;32m      1\u001b[0m test_coord \u001b[38;5;241m=\u001b[39m SkyCoord(\n\u001b[1;32m      2\u001b[0m     ra\u001b[38;5;241m=\u001b[39m\u001b[38;5;241m10\u001b[39m\u001b[38;5;241m*\u001b[39mu\u001b[38;5;241m.\u001b[39mdeg, \n\u001b[1;32m      3\u001b[0m     dec\u001b[38;5;241m=\u001b[39m\u001b[38;5;241m20\u001b[39m\u001b[38;5;241m*\u001b[39mu\u001b[38;5;241m.\u001b[39mdeg,\n\u001b[1;32m      4\u001b[0m     pm_ra_cosdec\u001b[38;5;241m=\u001b[39m\u001b[38;5;241m1\u001b[39m\u001b[38;5;241m*\u001b[39mu\u001b[38;5;241m.\u001b[39mmas\u001b[38;5;241m/\u001b[39mu\u001b[38;5;241m.\u001b[39myr,\n\u001b[1;32m      5\u001b[0m     pm_dec\u001b[38;5;241m=\u001b[39m\u001b[38;5;241m2\u001b[39m\u001b[38;5;241m*\u001b[39mu\u001b[38;5;241m.\u001b[39mmas\u001b[38;5;241m/\u001b[39mu\u001b[38;5;241m.\u001b[39myr)\n\u001b[1;32m      7\u001b[0m \u001b[38;5;66;03m# This cell will raise an exception - this is expected!\u001b[39;00m\n\u001b[0;32m----> 8\u001b[0m \u001b[43mtest_coord\u001b[49m\u001b[38;5;241;43m.\u001b[39;49m\u001b[43mtransform_to\u001b[49m\u001b[43m(\u001b[49m\u001b[43mcoord\u001b[49m\u001b[38;5;241;43m.\u001b[39;49m\u001b[43mGalactocentric\u001b[49m\u001b[43m(\u001b[49m\u001b[43m)\u001b[49m\u001b[43m)\u001b[49m\n",
      "File \u001b[0;32m/opt/hostedtoolcache/Python/3.9.13/x64/lib/python3.9/site-packages/astropy/coordinates/sky_coordinate.py:675\u001b[0m, in \u001b[0;36mSkyCoord.transform_to\u001b[0;34m(self, frame, merge_attributes)\u001b[0m\n\u001b[1;32m    671\u001b[0m generic_frame \u001b[38;5;241m=\u001b[39m GenericFrame(frame_kwargs)\n\u001b[1;32m    673\u001b[0m \u001b[38;5;66;03m# Do the transformation, returning a coordinate frame of the desired\u001b[39;00m\n\u001b[1;32m    674\u001b[0m \u001b[38;5;66;03m# final type (not generic).\u001b[39;00m\n\u001b[0;32m--> 675\u001b[0m new_coord \u001b[38;5;241m=\u001b[39m \u001b[43mtrans\u001b[49m\u001b[43m(\u001b[49m\u001b[38;5;28;43mself\u001b[39;49m\u001b[38;5;241;43m.\u001b[39;49m\u001b[43mframe\u001b[49m\u001b[43m,\u001b[49m\u001b[43m \u001b[49m\u001b[43mgeneric_frame\u001b[49m\u001b[43m)\u001b[49m\n\u001b[1;32m    677\u001b[0m \u001b[38;5;66;03m# Finally make the new SkyCoord object from the `new_coord` and\u001b[39;00m\n\u001b[1;32m    678\u001b[0m \u001b[38;5;66;03m# remaining frame_kwargs that are not frame_attributes in `new_coord`.\u001b[39;00m\n\u001b[1;32m    679\u001b[0m \u001b[38;5;28;01mfor\u001b[39;00m attr \u001b[38;5;129;01min\u001b[39;00m (\u001b[38;5;28mset\u001b[39m(new_coord\u001b[38;5;241m.\u001b[39mget_frame_attr_names()) \u001b[38;5;241m&\u001b[39m\n\u001b[1;32m    680\u001b[0m              \u001b[38;5;28mset\u001b[39m(frame_kwargs\u001b[38;5;241m.\u001b[39mkeys())):\n",
      "File \u001b[0;32m/opt/hostedtoolcache/Python/3.9.13/x64/lib/python3.9/site-packages/astropy/coordinates/transformations.py:1479\u001b[0m, in \u001b[0;36mCompositeTransform.__call__\u001b[0;34m(self, fromcoord, toframe)\u001b[0m\n\u001b[1;32m   1476\u001b[0m             frattrs[inter_frame_attr_nm] \u001b[38;5;241m=\u001b[39m attr\n\u001b[1;32m   1478\u001b[0m     curr_toframe \u001b[38;5;241m=\u001b[39m t\u001b[38;5;241m.\u001b[39mtosys(\u001b[38;5;241m*\u001b[39m\u001b[38;5;241m*\u001b[39mfrattrs)\n\u001b[0;32m-> 1479\u001b[0m     curr_coord \u001b[38;5;241m=\u001b[39m \u001b[43mt\u001b[49m\u001b[43m(\u001b[49m\u001b[43mcurr_coord\u001b[49m\u001b[43m,\u001b[49m\u001b[43m \u001b[49m\u001b[43mcurr_toframe\u001b[49m\u001b[43m)\u001b[49m\n\u001b[1;32m   1481\u001b[0m \u001b[38;5;66;03m# this is safe even in the case where self.transforms is empty, because\u001b[39;00m\n\u001b[1;32m   1482\u001b[0m \u001b[38;5;66;03m# coordinate objects are immutable, so copying is not needed\u001b[39;00m\n\u001b[1;32m   1483\u001b[0m \u001b[38;5;28;01mreturn\u001b[39;00m curr_coord\n",
      "File \u001b[0;32m/opt/hostedtoolcache/Python/3.9.13/x64/lib/python3.9/site-packages/astropy/coordinates/transformations.py:1251\u001b[0m, in \u001b[0;36mBaseAffineTransform.__call__\u001b[0;34m(self, fromcoord, toframe)\u001b[0m\n\u001b[1;32m   1250\u001b[0m \u001b[38;5;28;01mdef\u001b[39;00m \u001b[38;5;21m__call__\u001b[39m(\u001b[38;5;28mself\u001b[39m, fromcoord, toframe):\n\u001b[0;32m-> 1251\u001b[0m     params \u001b[38;5;241m=\u001b[39m \u001b[38;5;28;43mself\u001b[39;49m\u001b[38;5;241;43m.\u001b[39;49m\u001b[43m_affine_params\u001b[49m\u001b[43m(\u001b[49m\u001b[43mfromcoord\u001b[49m\u001b[43m,\u001b[49m\u001b[43m \u001b[49m\u001b[43mtoframe\u001b[49m\u001b[43m)\u001b[49m\n\u001b[1;32m   1252\u001b[0m     newrep \u001b[38;5;241m=\u001b[39m \u001b[38;5;28mself\u001b[39m\u001b[38;5;241m.\u001b[39m_apply_transform(fromcoord, \u001b[38;5;241m*\u001b[39mparams)\n\u001b[1;32m   1253\u001b[0m     \u001b[38;5;28;01mreturn\u001b[39;00m toframe\u001b[38;5;241m.\u001b[39mrealize_frame(newrep)\n",
      "File \u001b[0;32m/opt/hostedtoolcache/Python/3.9.13/x64/lib/python3.9/site-packages/astropy/coordinates/transformations.py:1306\u001b[0m, in \u001b[0;36mAffineTransform._affine_params\u001b[0;34m(self, fromcoord, toframe)\u001b[0m\n\u001b[1;32m   1305\u001b[0m \u001b[38;5;28;01mdef\u001b[39;00m \u001b[38;5;21m_affine_params\u001b[39m(\u001b[38;5;28mself\u001b[39m, fromcoord, toframe):\n\u001b[0;32m-> 1306\u001b[0m     \u001b[38;5;28;01mreturn\u001b[39;00m \u001b[38;5;28;43mself\u001b[39;49m\u001b[38;5;241;43m.\u001b[39;49m\u001b[43mtransform_func\u001b[49m\u001b[43m(\u001b[49m\u001b[43mfromcoord\u001b[49m\u001b[43m,\u001b[49m\u001b[43m \u001b[49m\u001b[43mtoframe\u001b[49m\u001b[43m)\u001b[49m\n",
      "File \u001b[0;32m/opt/hostedtoolcache/Python/3.9.13/x64/lib/python3.9/site-packages/astropy/coordinates/builtin_frames/galactocentric.py:580\u001b[0m, in \u001b[0;36micrs_to_galactocentric\u001b[0;34m(icrs_coord, galactocentric_frame)\u001b[0m\n\u001b[1;32m    578\u001b[0m \u001b[38;5;129m@frame_transform_graph\u001b[39m\u001b[38;5;241m.\u001b[39mtransform(AffineTransform, ICRS, Galactocentric)\n\u001b[1;32m    579\u001b[0m \u001b[38;5;28;01mdef\u001b[39;00m \u001b[38;5;21micrs_to_galactocentric\u001b[39m(icrs_coord, galactocentric_frame):\n\u001b[0;32m--> 580\u001b[0m     \u001b[43m_check_coord_repr_diff_types\u001b[49m\u001b[43m(\u001b[49m\u001b[43micrs_coord\u001b[49m\u001b[43m)\u001b[49m\n\u001b[1;32m    581\u001b[0m     \u001b[38;5;28;01mreturn\u001b[39;00m get_matrix_vectors(galactocentric_frame)\n",
      "File \u001b[0;32m/opt/hostedtoolcache/Python/3.9.13/x64/lib/python3.9/site-packages/astropy/coordinates/builtin_frames/galactocentric.py:564\u001b[0m, in \u001b[0;36m_check_coord_repr_diff_types\u001b[0;34m(c)\u001b[0m\n\u001b[1;32m    562\u001b[0m \u001b[38;5;28;01mdef\u001b[39;00m \u001b[38;5;21m_check_coord_repr_diff_types\u001b[39m(c):\n\u001b[1;32m    563\u001b[0m     \u001b[38;5;28;01mif\u001b[39;00m \u001b[38;5;28misinstance\u001b[39m(c\u001b[38;5;241m.\u001b[39mdata, r\u001b[38;5;241m.\u001b[39mUnitSphericalRepresentation):\n\u001b[0;32m--> 564\u001b[0m         \u001b[38;5;28;01mraise\u001b[39;00m ConvertError(\u001b[38;5;124m\"\u001b[39m\u001b[38;5;124mTransforming to/from a Galactocentric frame \u001b[39m\u001b[38;5;124m\"\u001b[39m\n\u001b[1;32m    565\u001b[0m                            \u001b[38;5;124m\"\u001b[39m\u001b[38;5;124mrequires a 3D coordinate, e.g. (angle, angle, \u001b[39m\u001b[38;5;124m\"\u001b[39m\n\u001b[1;32m    566\u001b[0m                            \u001b[38;5;124m\"\u001b[39m\u001b[38;5;124mdistance) or (x, y, z).\u001b[39m\u001b[38;5;124m\"\u001b[39m)\n\u001b[1;32m    568\u001b[0m     \u001b[38;5;28;01mif\u001b[39;00m (\u001b[38;5;124m'\u001b[39m\u001b[38;5;124ms\u001b[39m\u001b[38;5;124m'\u001b[39m \u001b[38;5;129;01min\u001b[39;00m c\u001b[38;5;241m.\u001b[39mdata\u001b[38;5;241m.\u001b[39mdifferentials \u001b[38;5;129;01mand\u001b[39;00m\n\u001b[1;32m    569\u001b[0m             \u001b[38;5;28misinstance\u001b[39m(c\u001b[38;5;241m.\u001b[39mdata\u001b[38;5;241m.\u001b[39mdifferentials[\u001b[38;5;124m'\u001b[39m\u001b[38;5;124ms\u001b[39m\u001b[38;5;124m'\u001b[39m],\n\u001b[1;32m    570\u001b[0m                        (r\u001b[38;5;241m.\u001b[39mUnitSphericalDifferential,\n\u001b[1;32m    571\u001b[0m                         r\u001b[38;5;241m.\u001b[39mUnitSphericalCosLatDifferential,\n\u001b[1;32m    572\u001b[0m                         r\u001b[38;5;241m.\u001b[39mRadialDifferential))):\n\u001b[1;32m    573\u001b[0m         \u001b[38;5;28;01mraise\u001b[39;00m ConvertError(\u001b[38;5;124m\"\u001b[39m\u001b[38;5;124mTransforming to/from a Galactocentric frame \u001b[39m\u001b[38;5;124m\"\u001b[39m\n\u001b[1;32m    574\u001b[0m                            \u001b[38;5;124m\"\u001b[39m\u001b[38;5;124mrequires a 3D velocity, e.g., proper motion \u001b[39m\u001b[38;5;124m\"\u001b[39m\n\u001b[1;32m    575\u001b[0m                            \u001b[38;5;124m\"\u001b[39m\u001b[38;5;124mcomponents and radial velocity.\u001b[39m\u001b[38;5;124m\"\u001b[39m)\n",
      "\u001b[0;31mConvertError\u001b[0m: Transforming to/from a Galactocentric frame requires a 3D coordinate, e.g. (angle, angle, distance) or (x, y, z)."
     ]
    }
   ],
   "source": [
    "test_coord = SkyCoord(\n",
    "    ra=10*u.deg, \n",
    "    dec=20*u.deg,\n",
    "    pm_ra_cosdec=1*u.mas/u.yr,\n",
    "    pm_dec=2*u.mas/u.yr)\n",
    "\n",
    "# This cell will raise an exception - this is expected!\n",
    "test_coord.transform_to(coord.Galactocentric())"
   ]
  },
  {
   "cell_type": "markdown",
   "metadata": {},
   "source": [
    "## Evolving Coordinate Positions Between Epochs\n",
    "\n",
    "For nearby or fast-moving stars, a star's position could change appreciably between two well-spaced observations of the source. For such cases, it might be necessary to compute the position of the star at a given time using the proper motion or velocity of the star. Let's demonstrate this idea by comparing the sky position of a source as measured by [*Gaia* Data Release 2](https://www.cosmos.esa.int/web/gaia/dr2) (given at the epoch J2015.5) to an image near this source from the Digitized Sky Survey (DSS; digital scans of photographic plates observed in the 1950s). \n",
    "\n",
    "From previous astrometric measurements, we know that the star HD 219829 has very large proper motion: Close to 0.5 arcsec/year! Between the DSS and *Gaia*, we therefore expect that the position of the star has changed by about 0.5 arcmin. Let's see if this is the case! \n",
    "\n",
    "To start, we will query the *Gaia* catalog to retrieve data for this star (skip the cell below if you do not have an internet connection - we have provided the table locally as well). We use a large search radius so many sources will be returned"
   ]
  },
  {
   "cell_type": "code",
   "execution_count": 11,
   "metadata": {
    "execution": {
     "iopub.execute_input": "2022-08-24T19:12:15.867274Z",
     "iopub.status.busy": "2022-08-24T19:12:15.866830Z",
     "iopub.status.idle": "2022-08-24T19:12:18.382254Z",
     "shell.execute_reply": "2022-08-24T19:12:18.381446Z"
    }
   },
   "outputs": [],
   "source": [
    "# Skip this cell if you are not connected to the internet\n",
    "gaia_tbl = Gaia.query_object(SkyCoord.from_name('HD 219829'), \n",
    "                             radius=1*u.arcmin)"
   ]
  },
  {
   "cell_type": "code",
   "execution_count": 12,
   "metadata": {
    "execution": {
     "iopub.execute_input": "2022-08-24T19:12:18.386931Z",
     "iopub.status.busy": "2022-08-24T19:12:18.386403Z",
     "iopub.status.idle": "2022-08-24T19:12:18.492695Z",
     "shell.execute_reply": "2022-08-24T19:12:18.491938Z"
    }
   },
   "outputs": [],
   "source": [
    "# the .read() below produces some warnings that we can safely ignore\n",
    "with warnings.catch_warnings(): \n",
    "    warnings.simplefilter('ignore', UserWarning)\n",
    "    \n",
    "    gaia_tbl = QTable.read('HD_219829_query_results.ecsv')"
   ]
  },
  {
   "cell_type": "markdown",
   "metadata": {},
   "source": [
    "We know that HD 219829 will be the brightest source in this small region, so we can extract the row with the smallest G-band magnitude. Let's check the proper motion values for this source to make sure that they are large:"
   ]
  },
  {
   "cell_type": "code",
   "execution_count": 13,
   "metadata": {
    "execution": {
     "iopub.execute_input": "2022-08-24T19:12:18.496874Z",
     "iopub.status.busy": "2022-08-24T19:12:18.496423Z",
     "iopub.status.idle": "2022-08-24T19:12:18.503541Z",
     "shell.execute_reply": "2022-08-24T19:12:18.502855Z"
    }
   },
   "outputs": [
    {
     "data": {
      "text/html": [
       "<i>Row index=2</i>\n",
       "<table id=\"table140539941359520\">\n",
       "<thead><tr><th>source_id</th><th>pmra</th><th>pmdec</th></tr></thead>\n",
       "<thead><tr><th></th><th>mas / yr</th><th>mas / yr</th></tr></thead>\n",
       "<thead><tr><th>int64</th><th>float64</th><th>float64</th></tr></thead>\n",
       "<tr><td>2661015540210781568</td><td>483.4165901889734</td><td>-114.8633971841528</td></tr>\n",
       "</table>"
      ],
      "text/plain": [
       "<Row index=2>\n",
       "     source_id             pmra             pmdec       \n",
       "                         mas / yr          mas / yr     \n",
       "       int64             float64           float64      \n",
       "------------------- ----------------- ------------------\n",
       "2661015540210781568 483.4165901889734 -114.8633971841528"
      ]
     },
     "execution_count": 13,
     "metadata": {},
     "output_type": "execute_result"
    }
   ],
   "source": [
    "hd219829_row = gaia_tbl[gaia_tbl['phot_g_mean_mag'].argmin()]\n",
    "hd219829_row['source_id', 'pmra', 'pmdec']"
   ]
  },
  {
   "cell_type": "markdown",
   "metadata": {},
   "source": [
    "Indeed, it looks like this is our source! Let's construct a `SkyCoord` object for this source using the data from the *Gaia* archive:\n",
    "\n",
    "*Note about the Gaia catalog proper motion column names: The names in the Gaia archive and other repositories containing Gaia data give Right Ascension proper motion values simply as \"pmra\". These components implicitly contain the `cos(dec)` term, so we do **not** have to modify these values in order to pass them in to `SkyCoord` as `pm_ra_cosdec`*"
   ]
  },
  {
   "cell_type": "code",
   "execution_count": 14,
   "metadata": {
    "execution": {
     "iopub.execute_input": "2022-08-24T19:12:18.507764Z",
     "iopub.status.busy": "2022-08-24T19:12:18.507311Z",
     "iopub.status.idle": "2022-08-24T19:12:18.515950Z",
     "shell.execute_reply": "2022-08-24T19:12:18.515434Z"
    }
   },
   "outputs": [
    {
     "data": {
      "text/plain": [
       "<SkyCoord (ICRS): (ra, dec, distance) in (deg, deg, pc)\n",
       "    (349.72896716, 5.40511585, 34.47896069)\n",
       " (pm_ra_cosdec, pm_dec) in mas / yr\n",
       "    (483.41659019, -114.86339718)>"
      ]
     },
     "execution_count": 14,
     "metadata": {},
     "output_type": "execute_result"
    }
   ],
   "source": [
    "hd219829_coord = SkyCoord(\n",
    "    ra=hd219829_row['ra'], \n",
    "    dec=hd219829_row['dec'],\n",
    "    distance=Distance(parallax=hd219829_row['parallax']),\n",
    "    pm_ra_cosdec=hd219829_row['pmra'],\n",
    "    pm_dec=hd219829_row['pmdec'],\n",
    "    obstime=Time(hd219829_row['ref_epoch'], format='jyear'))\n",
    "\n",
    "hd219829_coord"
   ]
  },
  {
   "cell_type": "markdown",
   "metadata": {},
   "source": [
    "We now have a `SkyCoord` representation of the position and proper motion of the star HD 219829 as measured by *Gaia* and reported at the epoch J2015.5. What does this mean exactly? *Gaia* actually measures the (time-dependent) position of a star every time it scans the part of the sky that contains the source, and this is how *Gaia* is able to measure proper motions of stars. However, if every star is moving and changing its sky positions, how do we ever talk about \"the sky position\" of a star as opposed to \"the sky trajectory of a star\"?! The key is that catalogs often only report the position of a source at some reference epoch. For a survey that only observes the sky once or a few times (e.g., SDSS or 2MASS), this reference epoch might be \"the time that the star was observed.\" But for a mission like *Gaia*, which scans the sky many times, they perform astrometric fits to the individual position measurements, which allow them to measure the parallax, proper motion, and the reference position at a reference time for each source. For *Gaia* data release 2, the reference time is J2015.5, and the sky positions (and other quantities) reported in the catalog for each source are at this epoch. \n",
    "\n",
    "In `SkyCoord`, we specify the \"epoch\" of an observation using the `obstime` argument, as we did above. Now that we have a coordinate object for HD 219829, let's now compare the position of the star as measured by *Gaia* to its apparent position in an image from the DSS. Let's now query the DSS to retrieve a FITS image of the field around this star, using the STSCI DSS image cutout service. Skip the cell below if you do not have an internet connection (we have provided the image locally as well):"
   ]
  },
  {
   "cell_type": "code",
   "execution_count": 15,
   "metadata": {
    "execution": {
     "iopub.execute_input": "2022-08-24T19:12:18.519271Z",
     "iopub.status.busy": "2022-08-24T19:12:18.518891Z",
     "iopub.status.idle": "2022-08-24T19:12:18.807571Z",
     "shell.execute_reply": "2022-08-24T19:12:18.806769Z"
    }
   },
   "outputs": [],
   "source": [
    "# Skip this cell if you are not connected to the internet\n",
    "dss_cutout_filename = download_file(\n",
    "    f\"http://archive.stsci.edu/cgi-bin/dss_search?\"\n",
    "    f\"f=FITS&ra={hd219829_coord.ra.degree}&dec={hd219829_coord.dec.degree}\"\n",
    "    f\"&width=4&height=4\")  # width/height in arcmin"
   ]
  },
  {
   "cell_type": "code",
   "execution_count": 16,
   "metadata": {
    "execution": {
     "iopub.execute_input": "2022-08-24T19:12:18.811670Z",
     "iopub.status.busy": "2022-08-24T19:12:18.811380Z",
     "iopub.status.idle": "2022-08-24T19:12:18.815948Z",
     "shell.execute_reply": "2022-08-24T19:12:18.815315Z"
    }
   },
   "outputs": [],
   "source": [
    "dss_cutout_filename = 'dss_hd219829.fits'"
   ]
  },
  {
   "cell_type": "markdown",
   "metadata": {},
   "source": [
    "We can now load the FITS image of the cutout and use `astropy.visualization` to display the image using its World Coordinate System (WCS) info ([docs](http://docs.astropy.org/en/latest/visualization/wcsaxes/index.html)). By passing in the WCS information (included in the FITS cutout header), we can over-plot a marker for the *Gaia*-measured sky position of HD 219829:"
   ]
  },
  {
   "cell_type": "code",
   "execution_count": 17,
   "metadata": {
    "execution": {
     "iopub.execute_input": "2022-08-24T19:12:18.819131Z",
     "iopub.status.busy": "2022-08-24T19:12:18.818874Z",
     "iopub.status.idle": "2022-08-24T19:12:19.376959Z",
     "shell.execute_reply": "2022-08-24T19:12:19.376300Z"
    }
   },
   "outputs": [
    {
     "name": "stderr",
     "output_type": "stream",
     "text": [
      "WARNING: FITSFixedWarning: 'datfix' made the change 'Set MJD-OBS to 33867.416667 from DATE-OBS'. [astropy.wcs.wcs]\n"
     ]
    },
    {
     "data": {
      "text/plain": [
       "<matplotlib.collections.PathCollection at 0x7fd1ff3067c0>"
      ]
     },
     "execution_count": 17,
     "metadata": {},
     "output_type": "execute_result"
    },
    {
     "data": {
      "image/png": "[encoded data removed]",
      "text/plain": [
       "<Figure size 800x800 with 1 Axes>"
      ]
     },
     "metadata": {},
     "output_type": "display_data"
    }
   ],
   "source": [
    "hdu = fits.open(dss_cutout_filename)[0]\n",
    "wcs = WCS(hdu.header)\n",
    "\n",
    "fig, ax = plt.subplots(1, 1, figsize=(8, 8), \n",
    "                       subplot_kw=dict(projection=wcs))\n",
    "ax.imshow(hdu.data, origin='lower', cmap='Greys_r')\n",
    "ax.set_xlabel('RA')\n",
    "ax.set_ylabel('Dec')\n",
    "ax.set_autoscale_on(False)\n",
    "\n",
    "ax.scatter(hd219829_coord.ra.degree,\n",
    "           hd219829_coord.dec.degree,\n",
    "           s=500,\n",
    "           transform=ax.get_transform('world'),\n",
    "           facecolor='none', linewidth=2, color='tab:red')"
   ]
  },
  {
   "cell_type": "markdown",
   "metadata": {},
   "source": [
    "The brighest star (as observed by DSS) in this image is our target, and the red circle is where *Gaia* observed this star. As we excpected, it has moved quite a bit since the 1950's! We can account for this motion and predict the position of the star at around the time the DSS plate was observed. Let's assume that this plate was observed in 1950 exactly (this is not strictly correct, but should get us close enough).\n",
    "\n",
    "To account for the proper motion of the source and evolve the position to a new time, we can use the `SkyCoord.apply_space_motion()` method ([docs](http://docs.astropy.org/en/latest/api/astropy.coordinates.SkyCoord.html#astropy.coordinates.SkyCoord.apply_space_motion)). Because we defined the `obstime` when we defined the coordinate object for HD 219829, for example:"
   ]
  },
  {
   "cell_type": "code",
   "execution_count": 18,
   "metadata": {
    "execution": {
     "iopub.execute_input": "2022-08-24T19:12:19.381849Z",
     "iopub.status.busy": "2022-08-24T19:12:19.380678Z",
     "iopub.status.idle": "2022-08-24T19:12:19.386027Z",
     "shell.execute_reply": "2022-08-24T19:12:19.385461Z"
    }
   },
   "outputs": [
    {
     "data": {
      "text/plain": [
       "<Time object: scale='tt' format='jyear' value=2015.5>"
      ]
     },
     "execution_count": 18,
     "metadata": {},
     "output_type": "execute_result"
    }
   ],
   "source": [
    "hd219829_coord.obstime"
   ]
  },
  {
   "cell_type": "markdown",
   "metadata": {},
   "source": [
    "We can now use `apply_space_motion()` by passing in a new time, `new_obstime`, to compute the coordinates at:"
   ]
  },
  {
   "cell_type": "code",
   "execution_count": 19,
   "metadata": {
    "execution": {
     "iopub.execute_input": "2022-08-24T19:12:19.389233Z",
     "iopub.status.busy": "2022-08-24T19:12:19.388777Z",
     "iopub.status.idle": "2022-08-24T19:12:19.402349Z",
     "shell.execute_reply": "2022-08-24T19:12:19.401626Z"
    }
   },
   "outputs": [],
   "source": [
    "# this produces some warnings that we can safely ignore\n",
    "with warnings.catch_warnings(): \n",
    "    warnings.simplefilter('ignore', UserWarning)\n",
    "    \n",
    "    hd219829_coord_1950 = hd219829_coord.apply_space_motion(\n",
    "        new_obstime=Time('J1950'))"
   ]
  },
  {
   "cell_type": "markdown",
   "metadata": {},
   "source": [
    "Let's now plot our predicted position for this source as it would appear in 1950 based on the *Gaia* position and proper motion:"
   ]
  },
  {
   "cell_type": "code",
   "execution_count": 20,
   "metadata": {
    "execution": {
     "iopub.execute_input": "2022-08-24T19:12:19.406086Z",
     "iopub.status.busy": "2022-08-24T19:12:19.405567Z",
     "iopub.status.idle": "2022-08-24T19:12:19.758290Z",
     "shell.execute_reply": "2022-08-24T19:12:19.757505Z"
    }
   },
   "outputs": [
    {
     "data": {
      "text/plain": [
       "<matplotlib.collections.PathCollection at 0x7fd1feed0d00>"
      ]
     },
     "execution_count": 20,
     "metadata": {},
     "output_type": "execute_result"
    },
    {
     "data": {
      "image/png": "[encoded data removed]",
      "text/plain": [
       "<Figure size 800x800 with 1 Axes>"
      ]
     },
     "metadata": {},
     "output_type": "display_data"
    }
   ],
   "source": [
    "fig, ax = plt.subplots(1, 1, figsize=(8, 8), \n",
    "                       subplot_kw=dict(projection=wcs))\n",
    "ax.imshow(hdu.data, origin='lower', cmap='Greys_r')\n",
    "ax.set_xlabel('RA')\n",
    "ax.set_ylabel('Dec')\n",
    "ax.set_autoscale_on(False)\n",
    "\n",
    "ax.scatter(hd219829_coord.ra.degree,\n",
    "           hd219829_coord.dec.degree,\n",
    "           s=500,\n",
    "           transform=ax.get_transform('world'),\n",
    "           facecolor='none', linewidth=2, color='tab:red')\n",
    "\n",
    "# Plot the predicted (past) position:\n",
    "ax.scatter(hd219829_coord_1950.ra.degree,\n",
    "           hd219829_coord_1950.dec.degree,\n",
    "           s=500,\n",
    "           transform=ax.get_transform('world'),\n",
    "           facecolor='none', linewidth=2, color='tab:blue')"
   ]
  },
  {
   "cell_type": "markdown",
   "metadata": {},
   "source": [
    "The red circle is the same as in the previous image and shows the position of the source in the *Gaia* catalog (in 2015.5). The blue circle shows our prediction for the position of the source in 1950 - this looks much closer to where the star is in the DSS image!"
   ]
  },
  {
   "cell_type": "markdown",
   "metadata": {},
   "source": [
    "In this tutorial, we have introduced how to store and transform velocity data along with positional data in `astropy.coordinates`. We also demonstrated how to use the velocity of a source to predict its position at an earlier or later time. "
   ]
  }
 ],
 "metadata": {
  "language_info": {
   "codemirror_mode": {
    "name": "ipython",
    "version": 3
   },
   "file_extension": ".py",
   "mimetype": "text/x-python",
   "name": "python",
   "nbconvert_exporter": "python",
   "pygments_lexer": "ipython3",
   "version": "3.9.13"
  }
 },
 "nbformat": 4,
 "nbformat_minor": 4
}

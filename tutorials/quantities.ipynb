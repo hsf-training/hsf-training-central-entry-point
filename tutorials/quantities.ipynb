{
 "cells": [
  {
   "cell_type": "markdown",
   "metadata": {},
   "source": [
    "# Using Astropy Quantities and Units for astrophysical calculations\n",
    "\n",
    "## Authors\n",
    "Ana Bonaca, Erik Tollerud, Jonathan Foster, Lia Corrales, Kris Stern, Stephanie T. Douglas\n",
    "\n",
    "## Learning Goals\n",
    "* Use `Quantity` objects to estimate a hypothetical galaxy's mass\n",
    "* Take advantage of constants in the `astropy.constants` library\n",
    "* Print formatted unit strings\n",
    "* Plot `Quantity` objects with unit labels, using `astropy.visualization.quantity_support`\n",
    "* Do math with `Quantity` objects\n",
    "* Convert quantities with `astropy.units`\n",
    "* Convert between wavelength and energy with `astropy.units.spectral` equivalencies\n",
    "* Use the small angle approximation with `astropy.units.dimensionless_angles` equivalencies\n",
    "* Write functions that take `Quantity` objects instead of numpy arrays\n",
    "* Make synthetic radio observations\n",
    "* Use `Quantity` objects such as data cubes to facilitate a full derivation of the total mass of a molecular cloud\n",
    "\n",
    "## Keywords\n",
    "units, radio astronomy, data cubes, matplotlib\n",
    "\n",
    "## Companion Content\n",
    "[Tools for Radio Astronomy](https://www.springer.com/gp/book/9783662053942) by Rohlfs & Wilson\n",
    "\n",
    "## Summary\n",
    "\n",
    "In this tutorial we present some examples showing how Astropy's `Quantity` object can make astrophysics calculations easier. The examples include calculating the mass of a galaxy from its velocity dispersion and determining masses of molecular clouds from CO intensity maps. We end with an example of good practices for using quantities in functions you might distribute to other people.\n",
    "\n",
    "For an in-depth discussion of `Quantity` objects, see the [astropy documentation section](http://docs.astropy.org/en/stable/units/quantity.html)."
   ]
  },
  {
   "cell_type": "markdown",
   "metadata": {},
   "source": [
    "## Preliminaries"
   ]
  },
  {
   "cell_type": "markdown",
   "metadata": {},
   "source": [
    "We start by loading standard libraries and set up plotting for ipython notebooks."
   ]
  },
  {
   "cell_type": "code",
   "execution_count": 1,
   "metadata": {
    "execution": {
     "iopub.execute_input": "2022-08-24T19:09:42.072662Z",
     "iopub.status.busy": "2022-08-24T19:09:42.072378Z",
     "iopub.status.idle": "2022-08-24T19:09:42.775823Z",
     "shell.execute_reply": "2022-08-24T19:09:42.775070Z"
    }
   },
   "outputs": [],
   "source": [
    "import numpy as np\n",
    "import matplotlib.pyplot as plt\n",
    "\n",
    "# You shouldn't use the `seed` function in real science code, but we use it here for example purposes.\n",
    "# It makes the \"random\" number generator always give the same numbers wherever you run it.\n",
    "np.random.seed(12345)\n",
    "\n",
    "# Set up matplotlib\n",
    "import matplotlib.pyplot as plt\n",
    "%matplotlib inline"
   ]
  },
  {
   "cell_type": "markdown",
   "metadata": {},
   "source": [
    "It's conventional to load the Astropy `units` module as the variable  `u`, demonstrated below.  This will make working with `Quantity` objects much easier. \n",
    "\n",
    "Astropy also has a `constants` module where typical physical constants are available.  The constants are stored as objects of a subclass of `Quantity`, so they behave just like a `Quantity`. Here, we'll only need the gravitational constant `G`, Planck's constant `h`, and Boltzmann's constant, `k_B`."
   ]
  },
  {
   "cell_type": "code",
   "execution_count": 2,
   "metadata": {
    "execution": {
     "iopub.execute_input": "2022-08-24T19:09:42.780686Z",
     "iopub.status.busy": "2022-08-24T19:09:42.780183Z",
     "iopub.status.idle": "2022-08-24T19:09:42.989671Z",
     "shell.execute_reply": "2022-08-24T19:09:42.988883Z"
    }
   },
   "outputs": [],
   "source": [
    "import astropy.units as u\n",
    "from astropy.constants import G, h, k_B"
   ]
  },
  {
   "cell_type": "markdown",
   "metadata": {},
   "source": [
    "We will also show an example of plotting while taking advantage of the `astropy.visualization` package, which provides support for `Quantity` units."
   ]
  },
  {
   "cell_type": "code",
   "execution_count": 3,
   "metadata": {
    "execution": {
     "iopub.execute_input": "2022-08-24T19:09:42.993589Z",
     "iopub.status.busy": "2022-08-24T19:09:42.993177Z",
     "iopub.status.idle": "2022-08-24T19:09:43.182416Z",
     "shell.execute_reply": "2022-08-24T19:09:43.181660Z"
    }
   },
   "outputs": [],
   "source": [
    "from astropy.visualization import quantity_support"
   ]
  },
  {
   "cell_type": "markdown",
   "metadata": {},
   "source": [
    "## 1. Galaxy mass"
   ]
  },
  {
   "cell_type": "markdown",
   "metadata": {},
   "source": [
    "In this first example, we will use `Quantity` objects to estimate a hypothetical galaxy's mass, given its half-light radius and radial velocities of stars in the galaxy."
   ]
  },
  {
   "cell_type": "markdown",
   "metadata": {},
   "source": [
    "Let's assume that we measured the half-light radius of the galaxy to be 29 pc projected on the sky at the distance of the galaxy. This radius is often called the \"effective radius\", so we'll store it as a `Quantity` object with the name `Reff`. The easiest way to create a `Quantity` object is by multiplying the value with its unit. Units are accessed as u.\"unit\", in this case u.pc."
   ]
  },
  {
   "cell_type": "code",
   "execution_count": 4,
   "metadata": {
    "execution": {
     "iopub.execute_input": "2022-08-24T19:09:43.186681Z",
     "iopub.status.busy": "2022-08-24T19:09:43.186257Z",
     "iopub.status.idle": "2022-08-24T19:09:43.189758Z",
     "shell.execute_reply": "2022-08-24T19:09:43.189214Z"
    }
   },
   "outputs": [],
   "source": [
    "Reff = 29 * u.pc"
   ]
  },
  {
   "cell_type": "markdown",
   "metadata": {},
   "source": [
    "A completely equivalent (but more verbose) way of doing the same thing is to use the `Quantity` object's initializer, demonstrated below.  In general, the simpler form (above) is preferred, as it is closer to how such a quantity would actually be written in text.  The initalizer form has more options, though, which you can learn about from the [astropy reference documentation on Quantity](http://docs.astropy.org/en/stable/api/astropy.units.quantity.Quantity.html)."
   ]
  },
  {
   "cell_type": "code",
   "execution_count": 5,
   "metadata": {
    "execution": {
     "iopub.execute_input": "2022-08-24T19:09:43.193169Z",
     "iopub.status.busy": "2022-08-24T19:09:43.192783Z",
     "iopub.status.idle": "2022-08-24T19:09:43.196337Z",
     "shell.execute_reply": "2022-08-24T19:09:43.195575Z"
    }
   },
   "outputs": [],
   "source": [
    "Reff = u.Quantity(29, unit=u.pc)"
   ]
  },
  {
   "cell_type": "markdown",
   "metadata": {},
   "source": [
    "We can access the value and unit of a `Quantity` using the `value` and `unit` attributes."
   ]
  },
  {
   "cell_type": "code",
   "execution_count": 6,
   "metadata": {
    "execution": {
     "iopub.execute_input": "2022-08-24T19:09:43.199257Z",
     "iopub.status.busy": "2022-08-24T19:09:43.199031Z",
     "iopub.status.idle": "2022-08-24T19:09:43.202975Z",
     "shell.execute_reply": "2022-08-24T19:09:43.202298Z"
    }
   },
   "outputs": [
    {
     "name": "stdout",
     "output_type": "stream",
     "text": [
      "Half light radius\n",
      "value: 29.0\n",
      "unit: pc\n"
     ]
    }
   ],
   "source": [
    "print(\"\"\"Half light radius\n",
    "value: {0}\n",
    "unit: {1}\"\"\".format(Reff.value, Reff.unit))"
   ]
  },
  {
   "cell_type": "markdown",
   "metadata": {},
   "source": [
    "The `value` and `unit` attributes can also be accessed within the print function."
   ]
  },
  {
   "cell_type": "code",
   "execution_count": 7,
   "metadata": {
    "execution": {
     "iopub.execute_input": "2022-08-24T19:09:43.206894Z",
     "iopub.status.busy": "2022-08-24T19:09:43.206669Z",
     "iopub.status.idle": "2022-08-24T19:09:43.210096Z",
     "shell.execute_reply": "2022-08-24T19:09:43.209398Z"
    }
   },
   "outputs": [
    {
     "name": "stdout",
     "output_type": "stream",
     "text": [
      "Half light radius\n",
      "value: 29.0\n",
      "unit: pc\n"
     ]
    }
   ],
   "source": [
    "print(\"\"\"Half light radius\n",
    "value: {0.value}\n",
    "unit: {0.unit}\"\"\".format(Reff))"
   ]
  },
  {
   "cell_type": "markdown",
   "metadata": {},
   "source": [
    "Furthermore, we can convert the radius in parsecs to any other unit of length using the ``to()`` method. Here, we convert it to meters."
   ]
  },
  {
   "cell_type": "code",
   "execution_count": 8,
   "metadata": {
    "execution": {
     "iopub.execute_input": "2022-08-24T19:09:43.213721Z",
     "iopub.status.busy": "2022-08-24T19:09:43.213483Z",
     "iopub.status.idle": "2022-08-24T19:09:43.217091Z",
     "shell.execute_reply": "2022-08-24T19:09:43.216407Z"
    }
   },
   "outputs": [
    {
     "name": "stdout",
     "output_type": "stream",
     "text": [
      "8.95e+17 m\n"
     ]
    }
   ],
   "source": [
    "print(\"{0:.3g}\".format(Reff.to(u.m)))"
   ]
  },
  {
   "cell_type": "markdown",
   "metadata": {},
   "source": [
    "Next, we'll first create a synthetic dataset of radial velocity measurements, assuming a normal distribution with a mean velocity of 206 km/s and a velocity dispersion of 4.3 km/s."
   ]
  },
  {
   "cell_type": "code",
   "execution_count": 9,
   "metadata": {
    "execution": {
     "iopub.execute_input": "2022-08-24T19:09:43.220751Z",
     "iopub.status.busy": "2022-08-24T19:09:43.220523Z",
     "iopub.status.idle": "2022-08-24T19:09:43.224059Z",
     "shell.execute_reply": "2022-08-24T19:09:43.223382Z"
    }
   },
   "outputs": [],
   "source": [
    "vmean = 206\n",
    "sigin = 4.3\n",
    "v = np.random.normal(vmean, sigin, 500)*u.km/u.s"
   ]
  },
  {
   "cell_type": "code",
   "execution_count": 10,
   "metadata": {
    "execution": {
     "iopub.execute_input": "2022-08-24T19:09:43.226912Z",
     "iopub.status.busy": "2022-08-24T19:09:43.226686Z",
     "iopub.status.idle": "2022-08-24T19:09:43.231002Z",
     "shell.execute_reply": "2022-08-24T19:09:43.230320Z"
    }
   },
   "outputs": [
    {
     "name": "stdout",
     "output_type": "stream",
     "text": [
      "First 10 radial velocity measurements: \n",
      "[205.11975706 208.05945635 203.76641353 203.61035969 214.45285646\n",
      " 211.99164508 206.39950387 207.21150846 209.30679704 211.35966937] km / s\n",
      "[205119.75706422 208059.45635365 203766.41352526 203610.35969131\n",
      " 214452.85646176 211991.64508178 206399.50387    207211.50845717\n",
      " 209306.79704073 211359.66936646] m / s\n"
     ]
    }
   ],
   "source": [
    "print(\"\"\"First 10 radial velocity measurements: \n",
    "{0}\n",
    "{1}\"\"\".format(v[:10], v.to(u.m/u.s)[:10]))"
   ]
  },
  {
   "cell_type": "markdown",
   "metadata": {},
   "source": [
    "One can ocassionally run into issues when attempting to plot `Quantity` objects with `matplotlib` libraries. It is always possible to fix this by passing the value array (e.g., `v.value`) to `matplotlib` functions. However, calling the `astropy.visualization.quantity_support()` function will change the settings on your `matplotlib` session to better handle astropy `Quantity` objects:"
   ]
  },
  {
   "cell_type": "code",
   "execution_count": 11,
   "metadata": {
    "execution": {
     "iopub.execute_input": "2022-08-24T19:09:43.234715Z",
     "iopub.status.busy": "2022-08-24T19:09:43.234493Z",
     "iopub.status.idle": "2022-08-24T19:09:43.299573Z",
     "shell.execute_reply": "2022-08-24T19:09:43.298766Z"
    }
   },
   "outputs": [
    {
     "data": {
      "text/plain": [
       "<astropy.visualization.units.quantity_support.<locals>.MplQuantityConverter at 0x7f14f4bf47c0>"
      ]
     },
     "execution_count": 11,
     "metadata": {},
     "output_type": "execute_result"
    }
   ],
   "source": [
    "quantity_support()"
   ]
  },
  {
   "cell_type": "markdown",
   "metadata": {},
   "source": [
    "Now we can plot a histogram of the velocity dataset. Note that, due to calling `quantity_support`, the x-axis is automatically labeled with the correct units."
   ]
  },
  {
   "cell_type": "code",
   "execution_count": 12,
   "metadata": {
    "execution": {
     "iopub.execute_input": "2022-08-24T19:09:43.303615Z",
     "iopub.status.busy": "2022-08-24T19:09:43.303357Z",
     "iopub.status.idle": "2022-08-24T19:09:43.558189Z",
     "shell.execute_reply": "2022-08-24T19:09:43.557461Z"
    }
   },
   "outputs": [
    {
     "data": {
      "text/plain": [
       "Text(0, 0.5, 'N')"
      ]
     },
     "execution_count": 12,
     "metadata": {},
     "output_type": "execute_result"
    },
    {
     "data": {
      "image/png": "[encoded data removed]",
      "text/plain": [
       "<Figure size 640x480 with 1 Axes>"
      ]
     },
     "metadata": {},
     "output_type": "display_data"
    }
   ],
   "source": [
    "plt.figure()\n",
    "plt.hist(v, bins='auto', histtype=\"step\")\n",
    "plt.ylabel(\"N\")"
   ]
  },
  {
   "cell_type": "markdown",
   "metadata": {},
   "source": [
    "Now we can calculate the velocity dispersion of the galaxy. This demonstrates how you can perform basic operations like subtraction and division with `Quantity` objects, and also use them in standard numpy functions such as `mean()` and `size()`. They retain their units through these operations just as you would expect them to."
   ]
  },
  {
   "cell_type": "code",
   "execution_count": 13,
   "metadata": {
    "execution": {
     "iopub.execute_input": "2022-08-24T19:09:43.562037Z",
     "iopub.status.busy": "2022-08-24T19:09:43.561379Z",
     "iopub.status.idle": "2022-08-24T19:09:43.566151Z",
     "shell.execute_reply": "2022-08-24T19:09:43.565593Z"
    }
   },
   "outputs": [
    {
     "name": "stdout",
     "output_type": "stream",
     "text": [
      "Velocity dispersion: 4.36 km / s\n"
     ]
    }
   ],
   "source": [
    "sigma = np.sqrt(np.sum((v - np.mean(v))**2) / np.size(v))\n",
    "print(\"Velocity dispersion: {0:.2f}\".format(sigma))"
   ]
  },
  {
   "cell_type": "markdown",
   "metadata": {},
   "source": [
    "Note how we needed to use `numpy` square root function, because the resulting velocity dispersion quantity is a `numpy` array. If we used the python standard `math` library's `sqrt` function instead, we get an error."
   ]
  },
  {
   "cell_type": "code",
   "execution_count": 14,
   "metadata": {
    "execution": {
     "iopub.execute_input": "2022-08-24T19:09:43.569298Z",
     "iopub.status.busy": "2022-08-24T19:09:43.568827Z",
     "iopub.status.idle": "2022-08-24T19:09:43.572923Z",
     "shell.execute_reply": "2022-08-24T19:09:43.572237Z"
    }
   },
   "outputs": [],
   "source": [
    "sigma_scalar = np.sqrt(np.sum((v - np.mean(v))**2) / len(v))"
   ]
  },
  {
   "cell_type": "markdown",
   "metadata": {},
   "source": [
    "In general, you should only use `numpy` functions with `Quantity` objects, *not* the `math` equivalents, unless you are sure you understand the consequences."
   ]
  },
  {
   "cell_type": "markdown",
   "metadata": {},
   "source": [
    "Now for the actual mass calculation.  If a galaxy is pressure-supported (for example, an elliptical or dwarf spheroidal galaxy), its mass within the stellar extent can be estimated using a straightforward formula: $M_{1/2}=4\\sigma^2 R_{eff}/G$.  There are caveats to the use of this formula for science -- see Wolf et al. 2010 for details.  For demonstrating `Quantity`, you can accept that this is often good enough. For the calculation, we can multiply the quantities together, and `astropy` will keep track of the units."
   ]
  },
  {
   "cell_type": "code",
   "execution_count": 15,
   "metadata": {
    "execution": {
     "iopub.execute_input": "2022-08-24T19:09:43.576202Z",
     "iopub.status.busy": "2022-08-24T19:09:43.575752Z",
     "iopub.status.idle": "2022-08-24T19:09:43.581797Z",
     "shell.execute_reply": "2022-08-24T19:09:43.581103Z"
    }
   },
   "outputs": [
    {
     "data": {
      "text/latex": [
       "$3.3084841 \\times 10^{13} \\; \\mathrm{\\frac{km^{2}\\,kg\\,pc}{m^{3}}}$"
      ],
      "text/plain": [
       "<Quantity 3.30848411e+13 kg km2 pc / m3>"
      ]
     },
     "execution_count": 15,
     "metadata": {},
     "output_type": "execute_result"
    }
   ],
   "source": [
    "M = 4*sigma**2*Reff/G\n",
    "M"
   ]
  },
  {
   "cell_type": "markdown",
   "metadata": {},
   "source": [
    "The result is in a composite unit, so it's not really obvious it's a mass. However, it can be decomposed to cancel all of the length units ($km^2 pc/m^3$) using the `decompose()` method."
   ]
  },
  {
   "cell_type": "code",
   "execution_count": 16,
   "metadata": {
    "execution": {
     "iopub.execute_input": "2022-08-24T19:09:43.585504Z",
     "iopub.status.busy": "2022-08-24T19:09:43.585061Z",
     "iopub.status.idle": "2022-08-24T19:09:43.590144Z",
     "shell.execute_reply": "2022-08-24T19:09:43.589449Z"
    }
   },
   "outputs": [
    {
     "data": {
      "text/latex": [
       "$1.0208915 \\times 10^{36} \\; \\mathrm{kg}$"
      ],
      "text/plain": [
       "<Quantity 1.02089152e+36 kg>"
      ]
     },
     "execution_count": 16,
     "metadata": {},
     "output_type": "execute_result"
    }
   ],
   "source": [
    "M.decompose()"
   ]
  },
  {
   "cell_type": "markdown",
   "metadata": {},
   "source": [
    "We can also easily express the mass in whatever form you like -- solar masses are common in astronomy, or maybe you want the default SI and CGS units."
   ]
  },
  {
   "cell_type": "code",
   "execution_count": 17,
   "metadata": {
    "execution": {
     "iopub.execute_input": "2022-08-24T19:09:43.593921Z",
     "iopub.status.busy": "2022-08-24T19:09:43.593333Z",
     "iopub.status.idle": "2022-08-24T19:09:43.602102Z",
     "shell.execute_reply": "2022-08-24T19:09:43.601462Z"
    }
   },
   "outputs": [
    {
     "name": "stdout",
     "output_type": "stream",
     "text": [
      "Galaxy mass\n",
      "in solar units: 5.13e+05 solMass\n",
      "SI units: 1.02e+36 kg\n",
      "CGS units: 1.02e+39 g\n"
     ]
    }
   ],
   "source": [
    "print(\"\"\"Galaxy mass\n",
    "in solar units: {0:.3g}\n",
    "SI units: {1:.3g}\n",
    "CGS units: {2:.3g}\"\"\".format(M.to(u.Msun), M.si, M.cgs))"
   ]
  },
  {
   "cell_type": "markdown",
   "metadata": {},
   "source": [
    "Or, if you want the log of the mass, you can just use ``np.log10`` as long as the logarithm's argument is dimensionless."
   ]
  },
  {
   "cell_type": "code",
   "execution_count": 18,
   "metadata": {
    "execution": {
     "iopub.execute_input": "2022-08-24T19:09:43.606398Z",
     "iopub.status.busy": "2022-08-24T19:09:43.605104Z",
     "iopub.status.idle": "2022-08-24T19:09:43.612240Z",
     "shell.execute_reply": "2022-08-24T19:09:43.611630Z"
    }
   },
   "outputs": [
    {
     "data": {
      "text/plain": [
       "5.7104736875684186"
      ]
     },
     "execution_count": 18,
     "metadata": {},
     "output_type": "execute_result"
    }
   ],
   "source": [
    "np.log10(M.to_value(u.Msun))"
   ]
  },
  {
   "cell_type": "markdown",
   "metadata": {},
   "source": [
    "However, you can't take the log of something with units, as that is not mathematically sensible."
   ]
  },
  {
   "cell_type": "code",
   "execution_count": 19,
   "metadata": {
    "execution": {
     "iopub.execute_input": "2022-08-24T19:09:43.616634Z",
     "iopub.status.busy": "2022-08-24T19:09:43.615391Z",
     "iopub.status.idle": "2022-08-24T19:09:45.022064Z",
     "shell.execute_reply": "2022-08-24T19:09:45.021236Z"
    },
    "tags": [
     "raises-exception"
    ]
   },
   "outputs": [
    {
     "ename": "UnitTypeError",
     "evalue": "Can only apply 'log10' function to dimensionless quantities",
     "output_type": "error",
     "traceback": [
      "\u001b[0;31m---------------------------------------------------------------------------\u001b[0m",
      "\u001b[0;31mUnitConversionError\u001b[0m                       Traceback (most recent call last)",
      "File \u001b[0;32m/opt/hostedtoolcache/Python/3.9.13/x64/lib/python3.9/site-packages/astropy/units/quantity_helper/helpers.py:138\u001b[0m, in \u001b[0;36mhelper_dimensionless_to_dimensionless\u001b[0;34m(f, unit)\u001b[0m\n\u001b[1;32m    137\u001b[0m \u001b[38;5;28;01mtry\u001b[39;00m:\n\u001b[0;32m--> 138\u001b[0m     \u001b[38;5;28;01mreturn\u001b[39;00m ([\u001b[43mget_converter\u001b[49m\u001b[43m(\u001b[49m\u001b[43munit\u001b[49m\u001b[43m,\u001b[49m\u001b[43m \u001b[49m\u001b[43mdimensionless_unscaled\u001b[49m\u001b[43m)\u001b[49m],\n\u001b[1;32m    139\u001b[0m             dimensionless_unscaled)\n\u001b[1;32m    140\u001b[0m \u001b[38;5;28;01mexcept\u001b[39;00m UnitsError:\n",
      "File \u001b[0;32m/opt/hostedtoolcache/Python/3.9.13/x64/lib/python3.9/site-packages/astropy/units/quantity_helper/helpers.py:32\u001b[0m, in \u001b[0;36mget_converter\u001b[0;34m(from_unit, to_unit)\u001b[0m\n\u001b[1;32m     30\u001b[0m \u001b[38;5;124;03m\"\"\"Like Unit._get_converter, except returns None if no scaling is needed,\u001b[39;00m\n\u001b[1;32m     31\u001b[0m \u001b[38;5;124;03mi.e., if the inferred scale is unity.\"\"\"\u001b[39;00m\n\u001b[0;32m---> 32\u001b[0m converter \u001b[38;5;241m=\u001b[39m \u001b[43mfrom_unit\u001b[49m\u001b[38;5;241;43m.\u001b[39;49m\u001b[43m_get_converter\u001b[49m\u001b[43m(\u001b[49m\u001b[43mto_unit\u001b[49m\u001b[43m)\u001b[49m\n\u001b[1;32m     33\u001b[0m \u001b[38;5;28;01mreturn\u001b[39;00m \u001b[38;5;28;01mNone\u001b[39;00m \u001b[38;5;28;01mif\u001b[39;00m converter \u001b[38;5;129;01mis\u001b[39;00m unit_scale_converter \u001b[38;5;28;01melse\u001b[39;00m converter\n",
      "File \u001b[0;32m/opt/hostedtoolcache/Python/3.9.13/x64/lib/python3.9/site-packages/astropy/units/core.py:1061\u001b[0m, in \u001b[0;36mUnitBase._get_converter\u001b[0;34m(self, other, equivalencies)\u001b[0m\n\u001b[1;32m   1059\u001b[0m                 \u001b[38;5;28;01mpass\u001b[39;00m\n\u001b[0;32m-> 1061\u001b[0m \u001b[38;5;28;01mraise\u001b[39;00m exc\n",
      "File \u001b[0;32m/opt/hostedtoolcache/Python/3.9.13/x64/lib/python3.9/site-packages/astropy/units/core.py:1046\u001b[0m, in \u001b[0;36mUnitBase._get_converter\u001b[0;34m(self, other, equivalencies)\u001b[0m\n\u001b[1;32m   1045\u001b[0m \u001b[38;5;28;01mtry\u001b[39;00m:\n\u001b[0;32m-> 1046\u001b[0m     \u001b[38;5;28;01mreturn\u001b[39;00m \u001b[38;5;28;43mself\u001b[39;49m\u001b[38;5;241;43m.\u001b[39;49m\u001b[43m_apply_equivalencies\u001b[49m\u001b[43m(\u001b[49m\n\u001b[1;32m   1047\u001b[0m \u001b[43m        \u001b[49m\u001b[38;5;28;43mself\u001b[39;49m\u001b[43m,\u001b[49m\u001b[43m \u001b[49m\u001b[43mother\u001b[49m\u001b[43m,\u001b[49m\u001b[43m \u001b[49m\u001b[38;5;28;43mself\u001b[39;49m\u001b[38;5;241;43m.\u001b[39;49m\u001b[43m_normalize_equivalencies\u001b[49m\u001b[43m(\u001b[49m\u001b[43mequivalencies\u001b[49m\u001b[43m)\u001b[49m\u001b[43m)\u001b[49m\n\u001b[1;32m   1048\u001b[0m \u001b[38;5;28;01mexcept\u001b[39;00m UnitsError \u001b[38;5;28;01mas\u001b[39;00m exc:\n\u001b[1;32m   1049\u001b[0m     \u001b[38;5;66;03m# Last hope: maybe other knows how to do it?\u001b[39;00m\n\u001b[1;32m   1050\u001b[0m     \u001b[38;5;66;03m# We assume the equivalencies have the unit itself as first item.\u001b[39;00m\n\u001b[1;32m   1051\u001b[0m     \u001b[38;5;66;03m# TODO: maybe better for other to have a `_back_converter` method?\u001b[39;00m\n",
      "File \u001b[0;32m/opt/hostedtoolcache/Python/3.9.13/x64/lib/python3.9/site-packages/astropy/units/core.py:1022\u001b[0m, in \u001b[0;36mUnitBase._apply_equivalencies\u001b[0;34m(self, unit, other, equivalencies)\u001b[0m\n\u001b[1;32m   1020\u001b[0m other_str \u001b[38;5;241m=\u001b[39m get_err_str(other)\n\u001b[0;32m-> 1022\u001b[0m \u001b[38;5;28;01mraise\u001b[39;00m UnitConversionError(\n\u001b[1;32m   1023\u001b[0m     \u001b[38;5;124mf\u001b[39m\u001b[38;5;124m\"\u001b[39m\u001b[38;5;132;01m{\u001b[39;00munit_str\u001b[38;5;132;01m}\u001b[39;00m\u001b[38;5;124m and \u001b[39m\u001b[38;5;132;01m{\u001b[39;00mother_str\u001b[38;5;132;01m}\u001b[39;00m\u001b[38;5;124m are not convertible\u001b[39m\u001b[38;5;124m\"\u001b[39m)\n",
      "\u001b[0;31mUnitConversionError\u001b[0m: 'kg km2 pc / m3' (mass) and '' (dimensionless) are not convertible",
      "\nDuring handling of the above exception, another exception occurred:\n",
      "\u001b[0;31mUnitTypeError\u001b[0m                             Traceback (most recent call last)",
      "Input \u001b[0;32mIn [19]\u001b[0m, in \u001b[0;36m<cell line: 1>\u001b[0;34m()\u001b[0m\n\u001b[0;32m----> 1\u001b[0m \u001b[43mnp\u001b[49m\u001b[38;5;241;43m.\u001b[39;49m\u001b[43mlog10\u001b[49m\u001b[43m(\u001b[49m\u001b[43mM\u001b[49m\u001b[43m)\u001b[49m\n",
      "File \u001b[0;32m/opt/hostedtoolcache/Python/3.9.13/x64/lib/python3.9/site-packages/astropy/units/quantity.py:591\u001b[0m, in \u001b[0;36mQuantity.__array_ufunc__\u001b[0;34m(self, function, method, *inputs, **kwargs)\u001b[0m\n\u001b[1;32m    569\u001b[0m \u001b[38;5;124;03m\"\"\"Wrap numpy ufuncs, taking care of units.\u001b[39;00m\n\u001b[1;32m    570\u001b[0m \n\u001b[1;32m    571\u001b[0m \u001b[38;5;124;03mParameters\u001b[39;00m\n\u001b[0;32m   (...)\u001b[0m\n\u001b[1;32m    585\u001b[0m \u001b[38;5;124;03m    Results of the ufunc, with the unit set properly.\u001b[39;00m\n\u001b[1;32m    586\u001b[0m \u001b[38;5;124;03m\"\"\"\u001b[39;00m\n\u001b[1;32m    587\u001b[0m \u001b[38;5;66;03m# Determine required conversion functions -- to bring the unit of the\u001b[39;00m\n\u001b[1;32m    588\u001b[0m \u001b[38;5;66;03m# input to that expected (e.g., radian for np.sin), or to get\u001b[39;00m\n\u001b[1;32m    589\u001b[0m \u001b[38;5;66;03m# consistent units between two inputs (e.g., in np.add) --\u001b[39;00m\n\u001b[1;32m    590\u001b[0m \u001b[38;5;66;03m# and the unit of the result (or tuple of units for nout > 1).\u001b[39;00m\n\u001b[0;32m--> 591\u001b[0m converters, unit \u001b[38;5;241m=\u001b[39m \u001b[43mconverters_and_unit\u001b[49m\u001b[43m(\u001b[49m\u001b[43mfunction\u001b[49m\u001b[43m,\u001b[49m\u001b[43m \u001b[49m\u001b[43mmethod\u001b[49m\u001b[43m,\u001b[49m\u001b[43m \u001b[49m\u001b[38;5;241;43m*\u001b[39;49m\u001b[43minputs\u001b[49m\u001b[43m)\u001b[49m\n\u001b[1;32m    593\u001b[0m out \u001b[38;5;241m=\u001b[39m kwargs\u001b[38;5;241m.\u001b[39mget(\u001b[38;5;124m'\u001b[39m\u001b[38;5;124mout\u001b[39m\u001b[38;5;124m'\u001b[39m, \u001b[38;5;28;01mNone\u001b[39;00m)\n\u001b[1;32m    594\u001b[0m \u001b[38;5;66;03m# Avoid loop back by turning any Quantity output into array views.\u001b[39;00m\n",
      "File \u001b[0;32m/opt/hostedtoolcache/Python/3.9.13/x64/lib/python3.9/site-packages/astropy/units/quantity_helper/converters.py:174\u001b[0m, in \u001b[0;36mconverters_and_unit\u001b[0;34m(function, method, *args)\u001b[0m\n\u001b[1;32m    171\u001b[0m units \u001b[38;5;241m=\u001b[39m [\u001b[38;5;28mgetattr\u001b[39m(arg, \u001b[38;5;124m'\u001b[39m\u001b[38;5;124munit\u001b[39m\u001b[38;5;124m'\u001b[39m, \u001b[38;5;28;01mNone\u001b[39;00m) \u001b[38;5;28;01mfor\u001b[39;00m arg \u001b[38;5;129;01min\u001b[39;00m args]\n\u001b[1;32m    173\u001b[0m \u001b[38;5;66;03m# Determine possible conversion functions, and the result unit.\u001b[39;00m\n\u001b[0;32m--> 174\u001b[0m converters, result_unit \u001b[38;5;241m=\u001b[39m \u001b[43mufunc_helper\u001b[49m\u001b[43m(\u001b[49m\u001b[43mfunction\u001b[49m\u001b[43m,\u001b[49m\u001b[43m \u001b[49m\u001b[38;5;241;43m*\u001b[39;49m\u001b[43munits\u001b[49m\u001b[43m)\u001b[49m\n\u001b[1;32m    176\u001b[0m \u001b[38;5;28;01mif\u001b[39;00m \u001b[38;5;28many\u001b[39m(converter \u001b[38;5;129;01mis\u001b[39;00m \u001b[38;5;28;01mFalse\u001b[39;00m \u001b[38;5;28;01mfor\u001b[39;00m converter \u001b[38;5;129;01min\u001b[39;00m converters):\n\u001b[1;32m    177\u001b[0m     \u001b[38;5;66;03m# for multi-argument ufuncs with a quantity and a non-quantity,\u001b[39;00m\n\u001b[1;32m    178\u001b[0m     \u001b[38;5;66;03m# the quantity normally needs to be dimensionless, *except*\u001b[39;00m\n\u001b[0;32m   (...)\u001b[0m\n\u001b[1;32m    181\u001b[0m     \u001b[38;5;66;03m# can just have the unit of the quantity\u001b[39;00m\n\u001b[1;32m    182\u001b[0m     \u001b[38;5;66;03m# (this allows, e.g., `q > 0.` independent of unit)\u001b[39;00m\n\u001b[1;32m    183\u001b[0m     \u001b[38;5;28;01mtry\u001b[39;00m:\n\u001b[1;32m    184\u001b[0m         \u001b[38;5;66;03m# Don't fold this loop in the test above: this rare case\u001b[39;00m\n\u001b[1;32m    185\u001b[0m         \u001b[38;5;66;03m# should not make the common case slower.\u001b[39;00m\n",
      "File \u001b[0;32m/opt/hostedtoolcache/Python/3.9.13/x64/lib/python3.9/site-packages/astropy/units/quantity_helper/helpers.py:141\u001b[0m, in \u001b[0;36mhelper_dimensionless_to_dimensionless\u001b[0;34m(f, unit)\u001b[0m\n\u001b[1;32m    138\u001b[0m     \u001b[38;5;28;01mreturn\u001b[39;00m ([get_converter(unit, dimensionless_unscaled)],\n\u001b[1;32m    139\u001b[0m             dimensionless_unscaled)\n\u001b[1;32m    140\u001b[0m \u001b[38;5;28;01mexcept\u001b[39;00m UnitsError:\n\u001b[0;32m--> 141\u001b[0m     \u001b[38;5;28;01mraise\u001b[39;00m UnitTypeError(\u001b[38;5;124m\"\u001b[39m\u001b[38;5;124mCan only apply \u001b[39m\u001b[38;5;124m'\u001b[39m\u001b[38;5;132;01m{}\u001b[39;00m\u001b[38;5;124m'\u001b[39m\u001b[38;5;124m function to \u001b[39m\u001b[38;5;124m\"\u001b[39m\n\u001b[1;32m    142\u001b[0m                         \u001b[38;5;124m\"\u001b[39m\u001b[38;5;124mdimensionless quantities\u001b[39m\u001b[38;5;124m\"\u001b[39m\n\u001b[1;32m    143\u001b[0m                         \u001b[38;5;241m.\u001b[39mformat(f\u001b[38;5;241m.\u001b[39m\u001b[38;5;18m__name__\u001b[39m))\n",
      "\u001b[0;31mUnitTypeError\u001b[0m: Can only apply 'log10' function to dimensionless quantities"
     ]
    }
   ],
   "source": [
    "np.log10(M)"
   ]
  },
  {
   "cell_type": "markdown",
   "metadata": {},
   "source": [
    "## Exercises"
   ]
  },
  {
   "cell_type": "markdown",
   "metadata": {},
   "source": [
    "Use `Quantity` and Kepler's law in the form given below to determine the (circular) orbital speed of the Earth around the sun in km/s. No need to look up constants or conversion factors to do this calculation -- it's all in `astropy.units` and `astropy.constants`.\n",
    "\n",
    "$$v = \\sqrt{\\frac{G M_{\\odot}}{r}}$$"
   ]
  },
  {
   "cell_type": "code",
   "execution_count": null,
   "metadata": {},
   "outputs": [],
   "source": []
  },
  {
   "cell_type": "markdown",
   "metadata": {},
   "source": [
    "There's a much easier way to figure out the velocity of the Earth using just two units or quantities.  Do that and then compare to the Kepler's law answer (the easiest way is probably to compute the percentage difference, if any)."
   ]
  },
  {
   "cell_type": "code",
   "execution_count": null,
   "metadata": {},
   "outputs": [],
   "source": []
  },
  {
   "cell_type": "markdown",
   "metadata": {},
   "source": [
    "(Completely optional, but a good way to convince yourself of the value of Quantity:) Do the above calculations by hand -- you can use a calculator (or python just for its arithmatic) but look up all the appropriate conversion factors and use paper-and-pencil approaches for keeping track of them all.  Which one took longer?"
   ]
  },
  {
   "cell_type": "code",
   "execution_count": null,
   "metadata": {},
   "outputs": [],
   "source": []
  },
  {
   "cell_type": "markdown",
   "metadata": {},
   "source": [
    "## 2. Molecular cloud mass"
   ]
  },
  {
   "cell_type": "markdown",
   "metadata": {},
   "source": [
    "In this second example, we will demonstrate how using `Quantity` objects can facilitate a full derivation of the total mass of a molecular cloud using radio observations of isotopes of Carbon Monoxide (CO)."
   ]
  },
  {
   "cell_type": "markdown",
   "metadata": {},
   "source": [
    "#### Setting up the data cube"
   ]
  },
  {
   "cell_type": "markdown",
   "metadata": {},
   "source": [
    "Let's assume that we've mapped the inner part of a molecular cloud in the J=1-0 rotational transition of ${\\rm C}^{18}{\\rm O}$  and are interested in measuring its total mass. The measurement produced a data cube with RA and Dec as spatial coordiates and velocity as the third axis. Each voxel in this data cube represents the brightness temperature of the emission at that position and velocity. Furthermore, we'll assume that we have an independent measurement of distance to the cloud $d=250$ pc and that the excitation temperature is known and constant throughout the cloud: $T_{ex}=25$ K."
   ]
  },
  {
   "cell_type": "code",
   "execution_count": 20,
   "metadata": {
    "execution": {
     "iopub.execute_input": "2022-08-24T19:09:45.028123Z",
     "iopub.status.busy": "2022-08-24T19:09:45.027507Z",
     "iopub.status.idle": "2022-08-24T19:09:45.032261Z",
     "shell.execute_reply": "2022-08-24T19:09:45.031632Z"
    }
   },
   "outputs": [],
   "source": [
    "d = 250 * u.pc\n",
    "Tex = 25 * u.K"
   ]
  },
  {
   "cell_type": "markdown",
   "metadata": {},
   "source": [
    "We'll generate a synthetic dataset, assuming the cloud follows a Gaussian distribution in each of RA, Dec and velocity. We start by creating a 100x100x300 numpy array, such that the first coordinate is right ascension, the second is declination, and the third is velocity.  We use the `numpy.meshgrid` function to create data cubes for each of the three coordinates, and then use them in the formula for a Gaussian to generate an array with the synthetic data cube. In this cube, the cloud is positioned at the center of the cube, with $\\sigma$ and the center in each dimension shown below.  Note in particular that the $\\sigma$ for RA and Dec have different units from the center, but `astropy` automatically does the relevant conversions before computing the exponential."
   ]
  },
  {
   "cell_type": "code",
   "execution_count": 21,
   "metadata": {
    "execution": {
     "iopub.execute_input": "2022-08-24T19:09:45.035651Z",
     "iopub.status.busy": "2022-08-24T19:09:45.035236Z",
     "iopub.status.idle": "2022-08-24T19:09:45.189256Z",
     "shell.execute_reply": "2022-08-24T19:09:45.188463Z"
    }
   },
   "outputs": [],
   "source": [
    "# Cloud's center\n",
    "cen_ra = 52.25 * u.deg\n",
    "cen_dec = 0.25 * u.deg\n",
    "cen_v = 15 * u.km/u.s\n",
    "\n",
    "# Cloud's size\n",
    "sig_ra = 3 * u.arcmin\n",
    "sig_dec = 4 * u.arcmin\n",
    "sig_v = 3 * u.km/u.s\n",
    "\n",
    "#1D coordinate quantities\n",
    "ra = np.linspace(52, 52.5, 100) * u.deg\n",
    "dec = np.linspace(0, 0.5, 100) * u.deg\n",
    "v = np.linspace(0, 30, 300) *u.km/u.s\n",
    "\n",
    "#this creates data cubes of size for each coordinate based on the dimensions of the other coordinates\n",
    "ra_cube, dec_cube, v_cube = np.meshgrid(ra, dec, v)\n",
    "\n",
    "data_gauss = np.exp(-0.5*((ra_cube-cen_ra)/sig_ra)**2 + \n",
    "                    -0.5*((dec_cube-cen_dec)/sig_dec)**2 + \n",
    "                    -0.5*((v_cube-cen_v)/sig_v)**2 )"
   ]
  },
  {
   "cell_type": "markdown",
   "metadata": {},
   "source": [
    "The units of the exponential are dimensionless, so we multiply the data cube by K to get brightness temperature units. Radio astronomers use a rather odd set of units [K km/s] as of integrated intensity (that is, summing all the emission from a line over velocity). As an aside for experts, we're setting up our artificial cube on the main-beam temperature scale (T$_{\\rm MB}$) which is the closest we can normally get to the actual brightness temperature of our source."
   ]
  },
  {
   "cell_type": "code",
   "execution_count": 22,
   "metadata": {
    "execution": {
     "iopub.execute_input": "2022-08-24T19:09:45.193686Z",
     "iopub.status.busy": "2022-08-24T19:09:45.193092Z",
     "iopub.status.idle": "2022-08-24T19:09:45.201908Z",
     "shell.execute_reply": "2022-08-24T19:09:45.201240Z"
    }
   },
   "outputs": [],
   "source": [
    "data = data_gauss * u.K"
   ]
  },
  {
   "cell_type": "markdown",
   "metadata": {},
   "source": [
    "We will also need to know the width of each velocity bin and the size of each pixel, so let's calculate that now."
   ]
  },
  {
   "cell_type": "code",
   "execution_count": 23,
   "metadata": {
    "execution": {
     "iopub.execute_input": "2022-08-24T19:09:45.205449Z",
     "iopub.status.busy": "2022-08-24T19:09:45.204870Z",
     "iopub.status.idle": "2022-08-24T19:09:45.211064Z",
     "shell.execute_reply": "2022-08-24T19:09:45.210404Z"
    }
   },
   "outputs": [
    {
     "name": "stdout",
     "output_type": "stream",
     "text": [
      "dra = 18.0 arcsec\n",
      "ddec = 18.0 arcsec\n",
      "dv = 0.1 km / s\n"
     ]
    }
   ],
   "source": [
    "# Average pixel size\n",
    "# This is only right if dec ~ 0, because of the cos(dec) factor.\n",
    "dra = (ra.max() - ra.min()) / len(ra)\n",
    "ddec = (dec.max() - dec.min()) / len(dec)\n",
    "\n",
    "#Average velocity bin width\n",
    "dv = (v.max() - v.min()) / len(v)\n",
    "print(\"\"\"dra = {0}\n",
    "ddec = {1}\n",
    "dv = {2}\"\"\".format(dra.to(u.arcsec), ddec.to(u.arcsec), dv))"
   ]
  },
  {
   "cell_type": "markdown",
   "metadata": {},
   "source": [
    "We're interested in the integrated intensity over all of the velocity channels, so let's create a 2D quantity array by summing our data cube along the velocity axis (multiplying by the velocity width of a pixel)."
   ]
  },
  {
   "cell_type": "code",
   "execution_count": 24,
   "metadata": {
    "execution": {
     "iopub.execute_input": "2022-08-24T19:09:45.214114Z",
     "iopub.status.busy": "2022-08-24T19:09:45.213886Z",
     "iopub.status.idle": "2022-08-24T19:09:45.232193Z",
     "shell.execute_reply": "2022-08-24T19:09:45.231449Z"
    }
   },
   "outputs": [
    {
     "data": {
      "text/latex": [
       "$\\mathrm{\\frac{K\\,km}{s}}$"
      ],
      "text/plain": [
       "Unit(\"K km / s\")"
      ]
     },
     "execution_count": 24,
     "metadata": {},
     "output_type": "execute_result"
    }
   ],
   "source": [
    "intcloud = np.sum(data*dv, axis=2)\n",
    "intcloud.unit"
   ]
  },
  {
   "cell_type": "markdown",
   "metadata": {},
   "source": [
    "We can plot the 2D quantity using matplotlib's imshow function, by passing the quantity's value. Similarly, we can set the correct extent using the values of $x_i$ and $x_f$. Finally, we can set the colorbar label to have proper units."
   ]
  },
  {
   "cell_type": "code",
   "execution_count": 25,
   "metadata": {
    "execution": {
     "iopub.execute_input": "2022-08-24T19:09:45.236167Z",
     "iopub.status.busy": "2022-08-24T19:09:45.235667Z",
     "iopub.status.idle": "2022-08-24T19:09:45.442578Z",
     "shell.execute_reply": "2022-08-24T19:09:45.441747Z"
    }
   },
   "outputs": [
    {
     "data": {
      "image/png": "[encoded data removed]",
      "text/plain": [
       "<Figure size 640x480 with 2 Axes>"
      ]
     },
     "metadata": {},
     "output_type": "display_data"
    }
   ],
   "source": [
    "#Note that we display RA in the convential way by going from max to min\n",
    "plt.imshow(intcloud.value, \n",
    "           origin='lower', \n",
    "           extent=[ra.value.max(), ra.value.min(), dec.value.min(), dec.value.max()], \n",
    "           cmap='hot', \n",
    "           interpolation='nearest', \n",
    "           aspect='equal')\n",
    "plt.colorbar().set_label(\"Intensity ({})\".format(intcloud.unit))\n",
    "plt.xlabel(\"RA (deg)\")\n",
    "plt.ylabel(\"Dec (deg)\");"
   ]
  },
  {
   "cell_type": "markdown",
   "metadata": {},
   "source": [
    "#### Measuring The Column Density of CO"
   ]
  },
  {
   "cell_type": "markdown",
   "metadata": {},
   "source": [
    "In order to calculate the mass of the molecular cloud, we need to measure its column density. A number of assumptions are required for the following calculation; the most important are that the emission is optically thin (typically true for ${\\rm C}^{18}{\\rm O}$) and that conditions of local thermodynamic equilibrium hold along the line of sight. In the case where the temperature is large compared to the separation in energy levels for a molecule and the source fills the main beam of the telescope, the total column density for ${\\rm C}^{13}{\\rm O}$ is\n",
    "\n",
    "$N=C \\frac{\\int T_B(V) dV}{1-e^{-B}}$\n",
    "\n",
    "where the constants $C$ and $B$ are given by:\n",
    "\n",
    "$C=3.0\\times10^{14} \\left(\\frac{\\nu}{\\nu_{13}}\\right)^2 \\frac{A_{13}}{A} {\\rm K^{-1} cm^{-2} \\, km^{-1} \\, s}$\n",
    "\n",
    "$B=\\frac{h\\nu}{k_B T}$\n",
    "\n",
    "(Rohlfs & Wilson [Tools for Radio Astronomy](https://www.springer.com/gp/book/9783662053942)). "
   ]
  },
  {
   "cell_type": "markdown",
   "metadata": {},
   "source": [
    "Here we have given an expression for $C$ scaled to the values for ${\\rm C}^{13}{\\rm O}$ ($\\nu_{13}$ and $A_{13}$). In order to use this relation for ${\\rm C}^{18}{\\rm O}$, we need to rescale the frequencies ${\\nu}$ and Einstein coefficients $A$. $C$ is in funny mixed units, but that's okay. We'll define it as a `Quantities` object and not have to worry about it. \n",
    "\n",
    "First, we look up the wavelength for these emission lines and store them as quantities. "
   ]
  },
  {
   "cell_type": "code",
   "execution_count": 26,
   "metadata": {
    "execution": {
     "iopub.execute_input": "2022-08-24T19:09:45.447835Z",
     "iopub.status.busy": "2022-08-24T19:09:45.446457Z",
     "iopub.status.idle": "2022-08-24T19:09:45.451801Z",
     "shell.execute_reply": "2022-08-24T19:09:45.451142Z"
    }
   },
   "outputs": [],
   "source": [
    "lambda13 = 2.60076 * u.mm\n",
    "lambda18 = 2.73079 * u.mm"
   ]
  },
  {
   "cell_type": "markdown",
   "metadata": {},
   "source": [
    "Since the wavelength and frequency of light are related using the speed of light, we can convert between them. However, doing so just using the `to()` method fails, as units of length and frequency are not convertible:"
   ]
  },
  {
   "cell_type": "code",
   "execution_count": 27,
   "metadata": {
    "execution": {
     "iopub.execute_input": "2022-08-24T19:09:45.455358Z",
     "iopub.status.busy": "2022-08-24T19:09:45.454903Z",
     "iopub.status.idle": "2022-08-24T19:09:45.583364Z",
     "shell.execute_reply": "2022-08-24T19:09:45.582443Z"
    },
    "tags": [
     "raises-exception"
    ]
   },
   "outputs": [
    {
     "ename": "UnitConversionError",
     "evalue": "'mm' (length) and 'Hz' (frequency) are not convertible",
     "output_type": "error",
     "traceback": [
      "\u001b[0;31m---------------------------------------------------------------------------\u001b[0m",
      "\u001b[0;31mUnitConversionError\u001b[0m                       Traceback (most recent call last)",
      "Input \u001b[0;32mIn [27]\u001b[0m, in \u001b[0;36m<cell line: 1>\u001b[0;34m()\u001b[0m\n\u001b[0;32m----> 1\u001b[0m nu13 \u001b[38;5;241m=\u001b[39m \u001b[43mlambda13\u001b[49m\u001b[38;5;241;43m.\u001b[39;49m\u001b[43mto\u001b[49m\u001b[43m(\u001b[49m\u001b[43mu\u001b[49m\u001b[38;5;241;43m.\u001b[39;49m\u001b[43mHz\u001b[49m\u001b[43m)\u001b[49m\n\u001b[1;32m      2\u001b[0m nu18 \u001b[38;5;241m=\u001b[39m lambda18\u001b[38;5;241m.\u001b[39mto(u\u001b[38;5;241m.\u001b[39mHz)\n",
      "File \u001b[0;32m/opt/hostedtoolcache/Python/3.9.13/x64/lib/python3.9/site-packages/astropy/units/quantity.py:846\u001b[0m, in \u001b[0;36mQuantity.to\u001b[0;34m(self, unit, equivalencies, copy)\u001b[0m\n\u001b[1;32m    842\u001b[0m unit \u001b[38;5;241m=\u001b[39m Unit(unit)\n\u001b[1;32m    843\u001b[0m \u001b[38;5;28;01mif\u001b[39;00m copy:\n\u001b[1;32m    844\u001b[0m     \u001b[38;5;66;03m# Avoid using to_value to ensure that we make a copy. We also\u001b[39;00m\n\u001b[1;32m    845\u001b[0m     \u001b[38;5;66;03m# don't want to slow down this method (esp. the scalar case).\u001b[39;00m\n\u001b[0;32m--> 846\u001b[0m     value \u001b[38;5;241m=\u001b[39m \u001b[38;5;28;43mself\u001b[39;49m\u001b[38;5;241;43m.\u001b[39;49m\u001b[43m_to_value\u001b[49m\u001b[43m(\u001b[49m\u001b[43munit\u001b[49m\u001b[43m,\u001b[49m\u001b[43m \u001b[49m\u001b[43mequivalencies\u001b[49m\u001b[43m)\u001b[49m\n\u001b[1;32m    847\u001b[0m \u001b[38;5;28;01melse\u001b[39;00m:\n\u001b[1;32m    848\u001b[0m     \u001b[38;5;66;03m# to_value only copies if necessary\u001b[39;00m\n\u001b[1;32m    849\u001b[0m     value \u001b[38;5;241m=\u001b[39m \u001b[38;5;28mself\u001b[39m\u001b[38;5;241m.\u001b[39mto_value(unit, equivalencies)\n",
      "File \u001b[0;32m/opt/hostedtoolcache/Python/3.9.13/x64/lib/python3.9/site-packages/astropy/units/quantity.py:800\u001b[0m, in \u001b[0;36mQuantity._to_value\u001b[0;34m(self, unit, equivalencies)\u001b[0m\n\u001b[1;32m    797\u001b[0m     equivalencies \u001b[38;5;241m=\u001b[39m \u001b[38;5;28mself\u001b[39m\u001b[38;5;241m.\u001b[39m_equivalencies\n\u001b[1;32m    798\u001b[0m \u001b[38;5;28;01mif\u001b[39;00m \u001b[38;5;129;01mnot\u001b[39;00m \u001b[38;5;28mself\u001b[39m\u001b[38;5;241m.\u001b[39mdtype\u001b[38;5;241m.\u001b[39mnames \u001b[38;5;129;01mor\u001b[39;00m \u001b[38;5;28misinstance\u001b[39m(\u001b[38;5;28mself\u001b[39m\u001b[38;5;241m.\u001b[39munit, StructuredUnit):\n\u001b[1;32m    799\u001b[0m     \u001b[38;5;66;03m# Standard path, let unit to do work.\u001b[39;00m\n\u001b[0;32m--> 800\u001b[0m     \u001b[38;5;28;01mreturn\u001b[39;00m \u001b[38;5;28;43mself\u001b[39;49m\u001b[38;5;241;43m.\u001b[39;49m\u001b[43munit\u001b[49m\u001b[38;5;241;43m.\u001b[39;49m\u001b[43mto\u001b[49m\u001b[43m(\u001b[49m\u001b[43munit\u001b[49m\u001b[43m,\u001b[49m\u001b[43m \u001b[49m\u001b[38;5;28;43mself\u001b[39;49m\u001b[38;5;241;43m.\u001b[39;49m\u001b[43mview\u001b[49m\u001b[43m(\u001b[49m\u001b[43mnp\u001b[49m\u001b[38;5;241;43m.\u001b[39;49m\u001b[43mndarray\u001b[49m\u001b[43m)\u001b[49m\u001b[43m,\u001b[49m\n\u001b[1;32m    801\u001b[0m \u001b[43m                        \u001b[49m\u001b[43mequivalencies\u001b[49m\u001b[38;5;241;43m=\u001b[39;49m\u001b[43mequivalencies\u001b[49m\u001b[43m)\u001b[49m\n\u001b[1;32m    803\u001b[0m \u001b[38;5;28;01melse\u001b[39;00m:\n\u001b[1;32m    804\u001b[0m     \u001b[38;5;66;03m# The .to() method of a simple unit cannot convert a structured\u001b[39;00m\n\u001b[1;32m    805\u001b[0m     \u001b[38;5;66;03m# dtype, so we work around it, by recursing.\u001b[39;00m\n\u001b[1;32m    806\u001b[0m     \u001b[38;5;66;03m# TODO: deprecate this?\u001b[39;00m\n\u001b[1;32m    807\u001b[0m     \u001b[38;5;66;03m# Convert simple to Structured on initialization?\u001b[39;00m\n\u001b[1;32m    808\u001b[0m     result \u001b[38;5;241m=\u001b[39m np\u001b[38;5;241m.\u001b[39mempty_like(\u001b[38;5;28mself\u001b[39m\u001b[38;5;241m.\u001b[39mview(np\u001b[38;5;241m.\u001b[39mndarray))\n",
      "File \u001b[0;32m/opt/hostedtoolcache/Python/3.9.13/x64/lib/python3.9/site-packages/astropy/units/core.py:1130\u001b[0m, in \u001b[0;36mUnitBase.to\u001b[0;34m(self, other, value, equivalencies)\u001b[0m\n\u001b[1;32m   1128\u001b[0m     \u001b[38;5;28;01mreturn\u001b[39;00m UNITY\n\u001b[1;32m   1129\u001b[0m \u001b[38;5;28;01melse\u001b[39;00m:\n\u001b[0;32m-> 1130\u001b[0m     \u001b[38;5;28;01mreturn\u001b[39;00m \u001b[38;5;28;43mself\u001b[39;49m\u001b[38;5;241;43m.\u001b[39;49m\u001b[43m_get_converter\u001b[49m\u001b[43m(\u001b[49m\u001b[43mUnit\u001b[49m\u001b[43m(\u001b[49m\u001b[43mother\u001b[49m\u001b[43m)\u001b[49m\u001b[43m,\u001b[49m\n\u001b[1;32m   1131\u001b[0m \u001b[43m                               \u001b[49m\u001b[43mequivalencies\u001b[49m\u001b[38;5;241;43m=\u001b[39;49m\u001b[43mequivalencies\u001b[49m\u001b[43m)\u001b[49m(value)\n",
      "File \u001b[0;32m/opt/hostedtoolcache/Python/3.9.13/x64/lib/python3.9/site-packages/astropy/units/core.py:1061\u001b[0m, in \u001b[0;36mUnitBase._get_converter\u001b[0;34m(self, other, equivalencies)\u001b[0m\n\u001b[1;32m   1058\u001b[0m             \u001b[38;5;28;01mexcept\u001b[39;00m \u001b[38;5;167;01mException\u001b[39;00m:\n\u001b[1;32m   1059\u001b[0m                 \u001b[38;5;28;01mpass\u001b[39;00m\n\u001b[0;32m-> 1061\u001b[0m \u001b[38;5;28;01mraise\u001b[39;00m exc\n",
      "File \u001b[0;32m/opt/hostedtoolcache/Python/3.9.13/x64/lib/python3.9/site-packages/astropy/units/core.py:1046\u001b[0m, in \u001b[0;36mUnitBase._get_converter\u001b[0;34m(self, other, equivalencies)\u001b[0m\n\u001b[1;32m   1044\u001b[0m \u001b[38;5;66;03m# if that doesn't work, maybe we can do it with equivalencies?\u001b[39;00m\n\u001b[1;32m   1045\u001b[0m \u001b[38;5;28;01mtry\u001b[39;00m:\n\u001b[0;32m-> 1046\u001b[0m     \u001b[38;5;28;01mreturn\u001b[39;00m \u001b[38;5;28;43mself\u001b[39;49m\u001b[38;5;241;43m.\u001b[39;49m\u001b[43m_apply_equivalencies\u001b[49m\u001b[43m(\u001b[49m\n\u001b[1;32m   1047\u001b[0m \u001b[43m        \u001b[49m\u001b[38;5;28;43mself\u001b[39;49m\u001b[43m,\u001b[49m\u001b[43m \u001b[49m\u001b[43mother\u001b[49m\u001b[43m,\u001b[49m\u001b[43m \u001b[49m\u001b[38;5;28;43mself\u001b[39;49m\u001b[38;5;241;43m.\u001b[39;49m\u001b[43m_normalize_equivalencies\u001b[49m\u001b[43m(\u001b[49m\u001b[43mequivalencies\u001b[49m\u001b[43m)\u001b[49m\u001b[43m)\u001b[49m\n\u001b[1;32m   1048\u001b[0m \u001b[38;5;28;01mexcept\u001b[39;00m UnitsError \u001b[38;5;28;01mas\u001b[39;00m exc:\n\u001b[1;32m   1049\u001b[0m     \u001b[38;5;66;03m# Last hope: maybe other knows how to do it?\u001b[39;00m\n\u001b[1;32m   1050\u001b[0m     \u001b[38;5;66;03m# We assume the equivalencies have the unit itself as first item.\u001b[39;00m\n\u001b[1;32m   1051\u001b[0m     \u001b[38;5;66;03m# TODO: maybe better for other to have a `_back_converter` method?\u001b[39;00m\n\u001b[1;32m   1052\u001b[0m     \u001b[38;5;28;01mif\u001b[39;00m \u001b[38;5;28mhasattr\u001b[39m(other, \u001b[38;5;124m'\u001b[39m\u001b[38;5;124mequivalencies\u001b[39m\u001b[38;5;124m'\u001b[39m):\n",
      "File \u001b[0;32m/opt/hostedtoolcache/Python/3.9.13/x64/lib/python3.9/site-packages/astropy/units/core.py:1022\u001b[0m, in \u001b[0;36mUnitBase._apply_equivalencies\u001b[0;34m(self, unit, other, equivalencies)\u001b[0m\n\u001b[1;32m   1019\u001b[0m unit_str \u001b[38;5;241m=\u001b[39m get_err_str(unit)\n\u001b[1;32m   1020\u001b[0m other_str \u001b[38;5;241m=\u001b[39m get_err_str(other)\n\u001b[0;32m-> 1022\u001b[0m \u001b[38;5;28;01mraise\u001b[39;00m UnitConversionError(\n\u001b[1;32m   1023\u001b[0m     \u001b[38;5;124mf\u001b[39m\u001b[38;5;124m\"\u001b[39m\u001b[38;5;132;01m{\u001b[39;00munit_str\u001b[38;5;132;01m}\u001b[39;00m\u001b[38;5;124m and \u001b[39m\u001b[38;5;132;01m{\u001b[39;00mother_str\u001b[38;5;132;01m}\u001b[39;00m\u001b[38;5;124m are not convertible\u001b[39m\u001b[38;5;124m\"\u001b[39m)\n",
      "\u001b[0;31mUnitConversionError\u001b[0m: 'mm' (length) and 'Hz' (frequency) are not convertible"
     ]
    }
   ],
   "source": [
    "nu13 = lambda13.to(u.Hz)\n",
    "nu18 = lambda18.to(u.Hz)"
   ]
  },
  {
   "cell_type": "markdown",
   "metadata": {},
   "source": [
    "Fortunately, `astropy` comes to the rescue by providing a feature called \"unit equivalencies.\"  Equivalencies provide a way to convert between two physically different units that are not normally equivalent, but in a certain context have a one-to-one mapping.  For more on equivalencies, see the [equivalencies section of astropy's documentation](http://docs.astropy.org/en/stable/units/equivalencies.html).\n",
    "\n",
    "In this case, calling the ``astropy.units.spectral()`` function provides the equivalencies necessary to handle conversions between wavelength and frequency. To use it, provide the equivalencies to the `equivalencies` keyword of the ``to()`` call:"
   ]
  },
  {
   "cell_type": "code",
   "execution_count": 28,
   "metadata": {
    "execution": {
     "iopub.execute_input": "2022-08-24T19:09:45.588689Z",
     "iopub.status.busy": "2022-08-24T19:09:45.588219Z",
     "iopub.status.idle": "2022-08-24T19:09:45.593357Z",
     "shell.execute_reply": "2022-08-24T19:09:45.592765Z"
    }
   },
   "outputs": [],
   "source": [
    "nu13 = lambda13.to(u.Hz, equivalencies=u.spectral())\n",
    "nu18 = lambda18.to(u.Hz, equivalencies=u.spectral())"
   ]
  },
  {
   "cell_type": "markdown",
   "metadata": {},
   "source": [
    "Next, we look up Einstein coefficients (in units of s$^{-1}$), and calculate the ratios in constant $C$. Note how the ratios of frequency and Einstein coefficient units are dimensionless, so the unit of $C$ is unchanged."
   ]
  },
  {
   "cell_type": "code",
   "execution_count": 29,
   "metadata": {
    "execution": {
     "iopub.execute_input": "2022-08-24T19:09:45.596969Z",
     "iopub.status.busy": "2022-08-24T19:09:45.596462Z",
     "iopub.status.idle": "2022-08-24T19:09:45.605386Z",
     "shell.execute_reply": "2022-08-24T19:09:45.604797Z"
    }
   },
   "outputs": [
    {
     "data": {
      "text/latex": [
       "$2.1792458 \\times 10^{14} \\; \\mathrm{\\frac{s}{K\\,km\\,cm^{2}}}$"
      ],
      "text/plain": [
       "<Quantity 2.17924582e+14 s / (cm2 K km)>"
      ]
     },
     "execution_count": 29,
     "metadata": {},
     "output_type": "execute_result"
    }
   ],
   "source": [
    "nu13 = 115271096910.13396 * u.Hz\n",
    "nu18 = 109782318669.689 * u.Hz\n",
    "A13 = 7.4e-8 / u.s\n",
    "A18 = 8.8e-8 / u.s\n",
    "\n",
    "C = 3e14 * (nu18/nu13)**3 * (A13/A18) / (u.K * u.cm**2 * u.km *(1/u.s))\n",
    "C"
   ]
  },
  {
   "cell_type": "markdown",
   "metadata": {},
   "source": [
    "Now we move on to calculate the constant $B$. This is given by the ratio of $\\frac{h\\nu}{k_B T}$, where $h$ is Planck's constant, $k_B$ is the Boltzmann's constant, $\\nu$ is the emission frequency, and $T$ is the excitation temperature. The constants were imported from `astropy.constants`, and the other two values are already calculated, so here we just take the ratio."
   ]
  },
  {
   "cell_type": "code",
   "execution_count": 30,
   "metadata": {
    "execution": {
     "iopub.execute_input": "2022-08-24T19:09:45.608825Z",
     "iopub.status.busy": "2022-08-24T19:09:45.608478Z",
     "iopub.status.idle": "2022-08-24T19:09:45.613337Z",
     "shell.execute_reply": "2022-08-24T19:09:45.612745Z"
    }
   },
   "outputs": [],
   "source": [
    "B = h * nu18 / (k_B * Tex)"
   ]
  },
  {
   "cell_type": "markdown",
   "metadata": {},
   "source": [
    "The units of $B$ are Hz sec, which can be decomposed to a dimensionless unit if you actually care about its value.  Usually this is not necessary, though. Quantities are at their best if you use them without worrying about intermediate units, and only convert at the very end when you want a final answer."
   ]
  },
  {
   "cell_type": "code",
   "execution_count": 31,
   "metadata": {
    "execution": {
     "iopub.execute_input": "2022-08-24T19:09:45.616758Z",
     "iopub.status.busy": "2022-08-24T19:09:45.616455Z",
     "iopub.status.idle": "2022-08-24T19:09:45.622316Z",
     "shell.execute_reply": "2022-08-24T19:09:45.621710Z"
    }
   },
   "outputs": [
    {
     "name": "stdout",
     "output_type": "stream",
     "text": [
      "0.21074881298143522 Hz s\n",
      "0.21074881298143522\n"
     ]
    }
   ],
   "source": [
    "print('{0}\\n{1}'.format(B, B.decompose()))"
   ]
  },
  {
   "cell_type": "markdown",
   "metadata": {},
   "source": [
    "At this point we have all the ingredients to calculate the number density of $\\rm CO$ molecules in this cloud. We already integrated (summed) over the velocity channels above to show the integrated intensity map, but we'll do it again here for clarity. This gives us the column density of CO for each spatial pixel in our map. We can then print out the peak column column density."
   ]
  },
  {
   "cell_type": "code",
   "execution_count": 32,
   "metadata": {
    "execution": {
     "iopub.execute_input": "2022-08-24T19:09:45.625080Z",
     "iopub.status.busy": "2022-08-24T19:09:45.624859Z",
     "iopub.status.idle": "2022-08-24T19:09:45.642361Z",
     "shell.execute_reply": "2022-08-24T19:09:45.641701Z"
    }
   },
   "outputs": [
    {
     "name": "stdout",
     "output_type": "stream",
     "text": [
      "Peak CO column density: \n"
     ]
    },
    {
     "data": {
      "text/latex": [
       "$8.5782091 \\times 10^{15} \\; \\mathrm{\\frac{1}{cm^{2}}}$"
      ],
      "text/plain": [
       "<Quantity 8.5782091e+15 1 / cm2>"
      ]
     },
     "execution_count": 32,
     "metadata": {},
     "output_type": "execute_result"
    }
   ],
   "source": [
    "NCO = C * np.sum(data*dv, axis=2) / (1 - np.exp(-B))\n",
    "print(\"Peak CO column density: \")\n",
    "np.max(NCO)"
   ]
  },
  {
   "cell_type": "markdown",
   "metadata": {},
   "source": [
    "#### CO to Total Mass"
   ]
  },
  {
   "cell_type": "markdown",
   "metadata": {},
   "source": [
    "We are using CO as a tracer for the much more numerous H$_2$, the quantity we are actually trying to infer. Since most of the mass is in H$_2$, we calculate its column density by multiplying the CO column density with the (known/assumed) H$_2$/CO ratio."
   ]
  },
  {
   "cell_type": "code",
   "execution_count": 33,
   "metadata": {
    "execution": {
     "iopub.execute_input": "2022-08-24T19:09:45.646020Z",
     "iopub.status.busy": "2022-08-24T19:09:45.645768Z",
     "iopub.status.idle": "2022-08-24T19:09:45.651575Z",
     "shell.execute_reply": "2022-08-24T19:09:45.651045Z"
    }
   },
   "outputs": [
    {
     "name": "stdout",
     "output_type": "stream",
     "text": [
      "Peak H2 column density: \n"
     ]
    },
    {
     "data": {
      "text/latex": [
       "$5.0611434 \\times 10^{22} \\; \\mathrm{\\frac{1}{cm^{2}}}$"
      ],
      "text/plain": [
       "<Quantity 5.06114337e+22 1 / cm2>"
      ]
     },
     "execution_count": 33,
     "metadata": {},
     "output_type": "execute_result"
    }
   ],
   "source": [
    "H2_CO_ratio = 5.9e6\n",
    "NH2 = NCO * H2_CO_ratio\n",
    "print(\"Peak H2 column density: \")\n",
    "np.max(NH2)"
   ]
  },
  {
   "cell_type": "markdown",
   "metadata": {},
   "source": [
    "That's a peak column density of roughly 50 magnitudes of visual extinction (assuming the conversion between N$_{\\rm H_2}$ and A$_V$ from Bohlin et al. 1978), which seems reasonable for a molecular cloud."
   ]
  },
  {
   "cell_type": "markdown",
   "metadata": {},
   "source": [
    "We obtain the mass column density by multiplying the number column density by the mass of an individual H$_2$ molecule. "
   ]
  },
  {
   "cell_type": "code",
   "execution_count": 34,
   "metadata": {
    "execution": {
     "iopub.execute_input": "2022-08-24T19:09:45.654682Z",
     "iopub.status.busy": "2022-08-24T19:09:45.654445Z",
     "iopub.status.idle": "2022-08-24T19:09:45.658893Z",
     "shell.execute_reply": "2022-08-24T19:09:45.658302Z"
    }
   },
   "outputs": [],
   "source": [
    "mH2 = 2 * 1.008 * u.Dalton  #aka atomic mass unit/amu\n",
    "rho = NH2 * mH2"
   ]
  },
  {
   "cell_type": "markdown",
   "metadata": {},
   "source": [
    "A final step in going from the column density to mass is summing up over the area area. If we do this in the straightforward way of length x width of a pixel, this area is then in units of ${\\rm deg}^2$."
   ]
  },
  {
   "cell_type": "code",
   "execution_count": 35,
   "metadata": {
    "execution": {
     "iopub.execute_input": "2022-08-24T19:09:45.661778Z",
     "iopub.status.busy": "2022-08-24T19:09:45.661529Z",
     "iopub.status.idle": "2022-08-24T19:09:45.667180Z",
     "shell.execute_reply": "2022-08-24T19:09:45.666588Z"
    }
   },
   "outputs": [
    {
     "name": "stdout",
     "output_type": "stream",
     "text": [
      "2.5e-05 deg2\n"
     ]
    }
   ],
   "source": [
    "dap = dra * ddec\n",
    "print(dap)"
   ]
  },
  {
   "cell_type": "markdown",
   "metadata": {},
   "source": [
    "Now comes an important subtlety: in the small angle approximation, multiplying the pixel area with the square of distance yields the cross-sectional area of the cloud that the pixel covers, in *physical* units, rather than angular units.  So it's tempting to just multiply the area and the square of the distance."
   ]
  },
  {
   "cell_type": "code",
   "execution_count": 36,
   "metadata": {
    "execution": {
     "iopub.execute_input": "2022-08-24T19:09:45.670128Z",
     "iopub.status.busy": "2022-08-24T19:09:45.669899Z",
     "iopub.status.idle": "2022-08-24T19:09:45.673588Z",
     "shell.execute_reply": "2022-08-24T19:09:45.672906Z"
    }
   },
   "outputs": [
    {
     "name": "stdout",
     "output_type": "stream",
     "text": [
      "1.5625 deg2 pc2\n"
     ]
    }
   ],
   "source": [
    "da = dap * d**2  # don't actually do it this way - use the version below instead!\n",
    "print(da)"
   ]
  },
  {
   "cell_type": "code",
   "execution_count": 37,
   "metadata": {
    "execution": {
     "iopub.execute_input": "2022-08-24T19:09:45.677178Z",
     "iopub.status.busy": "2022-08-24T19:09:45.676948Z",
     "iopub.status.idle": "2022-08-24T19:09:45.682019Z",
     "shell.execute_reply": "2022-08-24T19:09:45.681329Z"
    }
   },
   "outputs": [
    {
     "data": {
      "text/latex": [
       "$0.00047596472 \\; \\mathrm{pc^{2}}$"
      ],
      "text/plain": [
       "<Quantity 0.00047596 pc2>"
      ]
     },
     "execution_count": 37,
     "metadata": {},
     "output_type": "execute_result"
    }
   ],
   "source": [
    "dap.to(u.steradian).value * d**2"
   ]
  },
  {
   "cell_type": "markdown",
   "metadata": {},
   "source": [
    "But this is **wrong**, because `astropy.units` treats angles (and solid angles) as actual physical units, while the small-angle approximation assumes angles are dimensionless.  So if you, e.g., try to convert to a different area unit, it will fail:"
   ]
  },
  {
   "cell_type": "code",
   "execution_count": 38,
   "metadata": {
    "execution": {
     "iopub.execute_input": "2022-08-24T19:09:45.686313Z",
     "iopub.status.busy": "2022-08-24T19:09:45.686085Z",
     "iopub.status.idle": "2022-08-24T19:09:45.745589Z",
     "shell.execute_reply": "2022-08-24T19:09:45.744683Z"
    },
    "tags": [
     "raises-exception"
    ]
   },
   "outputs": [
    {
     "ename": "UnitConversionError",
     "evalue": "'deg2 pc2' and 'cm2' (area) are not convertible",
     "output_type": "error",
     "traceback": [
      "\u001b[0;31m---------------------------------------------------------------------------\u001b[0m",
      "\u001b[0;31mUnitConversionError\u001b[0m                       Traceback (most recent call last)",
      "Input \u001b[0;32mIn [38]\u001b[0m, in \u001b[0;36m<cell line: 1>\u001b[0;34m()\u001b[0m\n\u001b[0;32m----> 1\u001b[0m \u001b[43mda\u001b[49m\u001b[38;5;241;43m.\u001b[39;49m\u001b[43mto\u001b[49m\u001b[43m(\u001b[49m\u001b[43mu\u001b[49m\u001b[38;5;241;43m.\u001b[39;49m\u001b[43mcm\u001b[49m\u001b[38;5;241;43m*\u001b[39;49m\u001b[38;5;241;43m*\u001b[39;49m\u001b[38;5;241;43m2\u001b[39;49m\u001b[43m)\u001b[49m\n",
      "File \u001b[0;32m/opt/hostedtoolcache/Python/3.9.13/x64/lib/python3.9/site-packages/astropy/units/quantity.py:846\u001b[0m, in \u001b[0;36mQuantity.to\u001b[0;34m(self, unit, equivalencies, copy)\u001b[0m\n\u001b[1;32m    842\u001b[0m unit \u001b[38;5;241m=\u001b[39m Unit(unit)\n\u001b[1;32m    843\u001b[0m \u001b[38;5;28;01mif\u001b[39;00m copy:\n\u001b[1;32m    844\u001b[0m     \u001b[38;5;66;03m# Avoid using to_value to ensure that we make a copy. We also\u001b[39;00m\n\u001b[1;32m    845\u001b[0m     \u001b[38;5;66;03m# don't want to slow down this method (esp. the scalar case).\u001b[39;00m\n\u001b[0;32m--> 846\u001b[0m     value \u001b[38;5;241m=\u001b[39m \u001b[38;5;28;43mself\u001b[39;49m\u001b[38;5;241;43m.\u001b[39;49m\u001b[43m_to_value\u001b[49m\u001b[43m(\u001b[49m\u001b[43munit\u001b[49m\u001b[43m,\u001b[49m\u001b[43m \u001b[49m\u001b[43mequivalencies\u001b[49m\u001b[43m)\u001b[49m\n\u001b[1;32m    847\u001b[0m \u001b[38;5;28;01melse\u001b[39;00m:\n\u001b[1;32m    848\u001b[0m     \u001b[38;5;66;03m# to_value only copies if necessary\u001b[39;00m\n\u001b[1;32m    849\u001b[0m     value \u001b[38;5;241m=\u001b[39m \u001b[38;5;28mself\u001b[39m\u001b[38;5;241m.\u001b[39mto_value(unit, equivalencies)\n",
      "File \u001b[0;32m/opt/hostedtoolcache/Python/3.9.13/x64/lib/python3.9/site-packages/astropy/units/quantity.py:800\u001b[0m, in \u001b[0;36mQuantity._to_value\u001b[0;34m(self, unit, equivalencies)\u001b[0m\n\u001b[1;32m    797\u001b[0m     equivalencies \u001b[38;5;241m=\u001b[39m \u001b[38;5;28mself\u001b[39m\u001b[38;5;241m.\u001b[39m_equivalencies\n\u001b[1;32m    798\u001b[0m \u001b[38;5;28;01mif\u001b[39;00m \u001b[38;5;129;01mnot\u001b[39;00m \u001b[38;5;28mself\u001b[39m\u001b[38;5;241m.\u001b[39mdtype\u001b[38;5;241m.\u001b[39mnames \u001b[38;5;129;01mor\u001b[39;00m \u001b[38;5;28misinstance\u001b[39m(\u001b[38;5;28mself\u001b[39m\u001b[38;5;241m.\u001b[39munit, StructuredUnit):\n\u001b[1;32m    799\u001b[0m     \u001b[38;5;66;03m# Standard path, let unit to do work.\u001b[39;00m\n\u001b[0;32m--> 800\u001b[0m     \u001b[38;5;28;01mreturn\u001b[39;00m \u001b[38;5;28;43mself\u001b[39;49m\u001b[38;5;241;43m.\u001b[39;49m\u001b[43munit\u001b[49m\u001b[38;5;241;43m.\u001b[39;49m\u001b[43mto\u001b[49m\u001b[43m(\u001b[49m\u001b[43munit\u001b[49m\u001b[43m,\u001b[49m\u001b[43m \u001b[49m\u001b[38;5;28;43mself\u001b[39;49m\u001b[38;5;241;43m.\u001b[39;49m\u001b[43mview\u001b[49m\u001b[43m(\u001b[49m\u001b[43mnp\u001b[49m\u001b[38;5;241;43m.\u001b[39;49m\u001b[43mndarray\u001b[49m\u001b[43m)\u001b[49m\u001b[43m,\u001b[49m\n\u001b[1;32m    801\u001b[0m \u001b[43m                        \u001b[49m\u001b[43mequivalencies\u001b[49m\u001b[38;5;241;43m=\u001b[39;49m\u001b[43mequivalencies\u001b[49m\u001b[43m)\u001b[49m\n\u001b[1;32m    803\u001b[0m \u001b[38;5;28;01melse\u001b[39;00m:\n\u001b[1;32m    804\u001b[0m     \u001b[38;5;66;03m# The .to() method of a simple unit cannot convert a structured\u001b[39;00m\n\u001b[1;32m    805\u001b[0m     \u001b[38;5;66;03m# dtype, so we work around it, by recursing.\u001b[39;00m\n\u001b[1;32m    806\u001b[0m     \u001b[38;5;66;03m# TODO: deprecate this?\u001b[39;00m\n\u001b[1;32m    807\u001b[0m     \u001b[38;5;66;03m# Convert simple to Structured on initialization?\u001b[39;00m\n\u001b[1;32m    808\u001b[0m     result \u001b[38;5;241m=\u001b[39m np\u001b[38;5;241m.\u001b[39mempty_like(\u001b[38;5;28mself\u001b[39m\u001b[38;5;241m.\u001b[39mview(np\u001b[38;5;241m.\u001b[39mndarray))\n",
      "File \u001b[0;32m/opt/hostedtoolcache/Python/3.9.13/x64/lib/python3.9/site-packages/astropy/units/core.py:1130\u001b[0m, in \u001b[0;36mUnitBase.to\u001b[0;34m(self, other, value, equivalencies)\u001b[0m\n\u001b[1;32m   1128\u001b[0m     \u001b[38;5;28;01mreturn\u001b[39;00m UNITY\n\u001b[1;32m   1129\u001b[0m \u001b[38;5;28;01melse\u001b[39;00m:\n\u001b[0;32m-> 1130\u001b[0m     \u001b[38;5;28;01mreturn\u001b[39;00m \u001b[38;5;28;43mself\u001b[39;49m\u001b[38;5;241;43m.\u001b[39;49m\u001b[43m_get_converter\u001b[49m\u001b[43m(\u001b[49m\u001b[43mUnit\u001b[49m\u001b[43m(\u001b[49m\u001b[43mother\u001b[49m\u001b[43m)\u001b[49m\u001b[43m,\u001b[49m\n\u001b[1;32m   1131\u001b[0m \u001b[43m                               \u001b[49m\u001b[43mequivalencies\u001b[49m\u001b[38;5;241;43m=\u001b[39;49m\u001b[43mequivalencies\u001b[49m\u001b[43m)\u001b[49m(value)\n",
      "File \u001b[0;32m/opt/hostedtoolcache/Python/3.9.13/x64/lib/python3.9/site-packages/astropy/units/core.py:1061\u001b[0m, in \u001b[0;36mUnitBase._get_converter\u001b[0;34m(self, other, equivalencies)\u001b[0m\n\u001b[1;32m   1058\u001b[0m             \u001b[38;5;28;01mexcept\u001b[39;00m \u001b[38;5;167;01mException\u001b[39;00m:\n\u001b[1;32m   1059\u001b[0m                 \u001b[38;5;28;01mpass\u001b[39;00m\n\u001b[0;32m-> 1061\u001b[0m \u001b[38;5;28;01mraise\u001b[39;00m exc\n",
      "File \u001b[0;32m/opt/hostedtoolcache/Python/3.9.13/x64/lib/python3.9/site-packages/astropy/units/core.py:1046\u001b[0m, in \u001b[0;36mUnitBase._get_converter\u001b[0;34m(self, other, equivalencies)\u001b[0m\n\u001b[1;32m   1044\u001b[0m \u001b[38;5;66;03m# if that doesn't work, maybe we can do it with equivalencies?\u001b[39;00m\n\u001b[1;32m   1045\u001b[0m \u001b[38;5;28;01mtry\u001b[39;00m:\n\u001b[0;32m-> 1046\u001b[0m     \u001b[38;5;28;01mreturn\u001b[39;00m \u001b[38;5;28;43mself\u001b[39;49m\u001b[38;5;241;43m.\u001b[39;49m\u001b[43m_apply_equivalencies\u001b[49m\u001b[43m(\u001b[49m\n\u001b[1;32m   1047\u001b[0m \u001b[43m        \u001b[49m\u001b[38;5;28;43mself\u001b[39;49m\u001b[43m,\u001b[49m\u001b[43m \u001b[49m\u001b[43mother\u001b[49m\u001b[43m,\u001b[49m\u001b[43m \u001b[49m\u001b[38;5;28;43mself\u001b[39;49m\u001b[38;5;241;43m.\u001b[39;49m\u001b[43m_normalize_equivalencies\u001b[49m\u001b[43m(\u001b[49m\u001b[43mequivalencies\u001b[49m\u001b[43m)\u001b[49m\u001b[43m)\u001b[49m\n\u001b[1;32m   1048\u001b[0m \u001b[38;5;28;01mexcept\u001b[39;00m UnitsError \u001b[38;5;28;01mas\u001b[39;00m exc:\n\u001b[1;32m   1049\u001b[0m     \u001b[38;5;66;03m# Last hope: maybe other knows how to do it?\u001b[39;00m\n\u001b[1;32m   1050\u001b[0m     \u001b[38;5;66;03m# We assume the equivalencies have the unit itself as first item.\u001b[39;00m\n\u001b[1;32m   1051\u001b[0m     \u001b[38;5;66;03m# TODO: maybe better for other to have a `_back_converter` method?\u001b[39;00m\n\u001b[1;32m   1052\u001b[0m     \u001b[38;5;28;01mif\u001b[39;00m \u001b[38;5;28mhasattr\u001b[39m(other, \u001b[38;5;124m'\u001b[39m\u001b[38;5;124mequivalencies\u001b[39m\u001b[38;5;124m'\u001b[39m):\n",
      "File \u001b[0;32m/opt/hostedtoolcache/Python/3.9.13/x64/lib/python3.9/site-packages/astropy/units/core.py:1022\u001b[0m, in \u001b[0;36mUnitBase._apply_equivalencies\u001b[0;34m(self, unit, other, equivalencies)\u001b[0m\n\u001b[1;32m   1019\u001b[0m unit_str \u001b[38;5;241m=\u001b[39m get_err_str(unit)\n\u001b[1;32m   1020\u001b[0m other_str \u001b[38;5;241m=\u001b[39m get_err_str(other)\n\u001b[0;32m-> 1022\u001b[0m \u001b[38;5;28;01mraise\u001b[39;00m UnitConversionError(\n\u001b[1;32m   1023\u001b[0m     \u001b[38;5;124mf\u001b[39m\u001b[38;5;124m\"\u001b[39m\u001b[38;5;132;01m{\u001b[39;00munit_str\u001b[38;5;132;01m}\u001b[39;00m\u001b[38;5;124m and \u001b[39m\u001b[38;5;132;01m{\u001b[39;00mother_str\u001b[38;5;132;01m}\u001b[39;00m\u001b[38;5;124m are not convertible\u001b[39m\u001b[38;5;124m\"\u001b[39m)\n",
      "\u001b[0;31mUnitConversionError\u001b[0m: 'deg2 pc2' and 'cm2' (area) are not convertible"
     ]
    }
   ],
   "source": [
    "da.to(u.cm**2)"
   ]
  },
  {
   "cell_type": "markdown",
   "metadata": {},
   "source": [
    "The solution is to use the `dimensionless_angles` equivalency, which allows angles to be treated as dimensionless.  This makes it so that they will automatically convert to radians and become dimensionless when a conversion is needed."
   ]
  },
  {
   "cell_type": "code",
   "execution_count": 39,
   "metadata": {
    "execution": {
     "iopub.execute_input": "2022-08-24T19:09:45.749535Z",
     "iopub.status.busy": "2022-08-24T19:09:45.749007Z",
     "iopub.status.idle": "2022-08-24T19:09:45.755319Z",
     "shell.execute_reply": "2022-08-24T19:09:45.754600Z"
    }
   },
   "outputs": [
    {
     "data": {
      "text/latex": [
       "$0.00047596472 \\; \\mathrm{pc^{2}}$"
      ],
      "text/plain": [
       "<Quantity 0.00047596 pc2>"
      ]
     },
     "execution_count": 39,
     "metadata": {},
     "output_type": "execute_result"
    }
   ],
   "source": [
    "da = (dap * d**2).to(u.pc**2, equivalencies=u.dimensionless_angles())\n",
    "da"
   ]
  },
  {
   "cell_type": "code",
   "execution_count": 40,
   "metadata": {
    "execution": {
     "iopub.execute_input": "2022-08-24T19:09:45.759302Z",
     "iopub.status.busy": "2022-08-24T19:09:45.758814Z",
     "iopub.status.idle": "2022-08-24T19:09:45.764076Z",
     "shell.execute_reply": "2022-08-24T19:09:45.763417Z"
    }
   },
   "outputs": [
    {
     "data": {
      "text/latex": [
       "$4.5318534 \\times 10^{33} \\; \\mathrm{cm^{2}}$"
      ],
      "text/plain": [
       "<Quantity 4.53185339e+33 cm2>"
      ]
     },
     "execution_count": 40,
     "metadata": {},
     "output_type": "execute_result"
    }
   ],
   "source": [
    "da.to(u.cm**2)"
   ]
  },
  {
   "cell_type": "markdown",
   "metadata": {},
   "source": [
    "Finally, multiplying the column density with the pixel area and summing over all the pixels gives us the cloud mass."
   ]
  },
  {
   "cell_type": "code",
   "execution_count": 41,
   "metadata": {
    "execution": {
     "iopub.execute_input": "2022-08-24T19:09:45.768219Z",
     "iopub.status.busy": "2022-08-24T19:09:45.767601Z",
     "iopub.status.idle": "2022-08-24T19:09:45.773304Z",
     "shell.execute_reply": "2022-08-24T19:09:45.772633Z"
    }
   },
   "outputs": [
    {
     "data": {
      "text/latex": [
       "$317.64843 \\; \\mathrm{M_{\\odot}}$"
      ],
      "text/plain": [
       "<Quantity 317.64843091 solMass>"
      ]
     },
     "execution_count": 41,
     "metadata": {},
     "output_type": "execute_result"
    }
   ],
   "source": [
    "M = np.sum(rho * da)\n",
    "M.decompose().to(u.solMass)"
   ]
  },
  {
   "cell_type": "markdown",
   "metadata": {},
   "source": [
    "## Exercises"
   ]
  },
  {
   "cell_type": "markdown",
   "metadata": {},
   "source": [
    "The astro material was pretty heavy on that one, so let's focus on some associated statistics using `Quantity`'s array capabililities. Compute the median and mean of the `data` with the ``np.mean`` and ``np.median`` functions.  Why are their values so different?"
   ]
  },
  {
   "cell_type": "code",
   "execution_count": null,
   "metadata": {},
   "outputs": [],
   "source": []
  },
  {
   "cell_type": "markdown",
   "metadata": {},
   "source": [
    "Similarly, compute the standard deviation and variance (if you don't know the relevant functions, look it up in the numpy docs or just type np.<tab> and a code cell).  Do they have the units you expect?"
   ]
  },
  {
   "cell_type": "code",
   "execution_count": null,
   "metadata": {},
   "outputs": [],
   "source": []
  },
  {
   "cell_type": "markdown",
   "metadata": {},
   "source": [
    "## 3. Using Quantities with Functions"
   ]
  },
  {
   "cell_type": "markdown",
   "metadata": {},
   "source": [
    "`Quantity` is also a useful tool if you plan to share some of your code, either with collaborators or the wider community.  By writing functions that take `Quantity` objects instead of raw numbers or arrays, you can write code that is agnostic to the input unit.  In this way, you may even be able to prevent [the destruction of Mars orbiters](http://en.wikipedia.org/wiki/Mars_Climate_Orbiter#Cause_of_failure). Below, we provide a simple example."
   ]
  },
  {
   "cell_type": "markdown",
   "metadata": {},
   "source": [
    "Suppose you are working on an instrument, and the person funding it asks for a function to give an analytic estimate of the response function.  You determine from some tests it's basically a Lorentzian, but with a different scale along the two axes.  Your first thought might be to do this:"
   ]
  },
  {
   "cell_type": "code",
   "execution_count": 42,
   "metadata": {
    "execution": {
     "iopub.execute_input": "2022-08-24T19:09:45.777205Z",
     "iopub.status.busy": "2022-08-24T19:09:45.776756Z",
     "iopub.status.idle": "2022-08-24T19:09:45.780574Z",
     "shell.execute_reply": "2022-08-24T19:09:45.779900Z"
    }
   },
   "outputs": [],
   "source": [
    "def response_func(xinarcsec, yinarcsec):\n",
    "    xscale = 0.9\n",
    "    yscale = 0.85\n",
    "    xfactor = 1 / (1 + xinarcsec/xscale)\n",
    "    yfactor = 1 / (1 + yinarcsec/yscale)\n",
    "    \n",
    "    return xfactor * yfactor"
   ]
  },
  {
   "cell_type": "markdown",
   "metadata": {},
   "source": [
    "You meant the inputs to be in arcsec, but alas, you send that to your collaborator and they don't look closely and think the inputs are instead supposed to be in arcmin.  So they do:"
   ]
  },
  {
   "cell_type": "code",
   "execution_count": 43,
   "metadata": {
    "execution": {
     "iopub.execute_input": "2022-08-24T19:09:45.783962Z",
     "iopub.status.busy": "2022-08-24T19:09:45.783353Z",
     "iopub.status.idle": "2022-08-24T19:09:45.789018Z",
     "shell.execute_reply": "2022-08-24T19:09:45.788417Z"
    }
   },
   "outputs": [
    {
     "data": {
      "text/plain": [
       "0.19640564826700893"
      ]
     },
     "execution_count": 43,
     "metadata": {},
     "output_type": "execute_result"
    }
   ],
   "source": [
    "response_func(1.0, 1.2)"
   ]
  },
  {
   "cell_type": "markdown",
   "metadata": {},
   "source": [
    "And now they tell all their friends how terrible the instrument is, because it's supposed to have arcsecond resolution, but your function clearly shows it can only resolve an arcmin at best. But you can solve this by requiring they pass in `Quantity` objects.  The new function could simply be:"
   ]
  },
  {
   "cell_type": "code",
   "execution_count": 44,
   "metadata": {
    "execution": {
     "iopub.execute_input": "2022-08-24T19:09:45.807299Z",
     "iopub.status.busy": "2022-08-24T19:09:45.806694Z",
     "iopub.status.idle": "2022-08-24T19:09:45.810728Z",
     "shell.execute_reply": "2022-08-24T19:09:45.810003Z"
    }
   },
   "outputs": [],
   "source": [
    "def response_func(x, y):\n",
    "    xscale = 0.9 * u.arcsec\n",
    "    yscale = 0.85 * u.arcsec\n",
    "    xfactor = 1 / (1 + x/xscale)\n",
    "    yfactor = 1 / (1 + y/yscale)\n",
    "    \n",
    "    return xfactor * yfactor"
   ]
  },
  {
   "cell_type": "markdown",
   "metadata": {},
   "source": [
    "And your collaborator now has to pay attention.  If they just blindly put in a number they get an error:"
   ]
  },
  {
   "cell_type": "code",
   "execution_count": 45,
   "metadata": {
    "execution": {
     "iopub.execute_input": "2022-08-24T19:09:45.814120Z",
     "iopub.status.busy": "2022-08-24T19:09:45.813759Z",
     "iopub.status.idle": "2022-08-24T19:09:45.864562Z",
     "shell.execute_reply": "2022-08-24T19:09:45.863811Z"
    },
    "tags": [
     "raises-exception"
    ]
   },
   "outputs": [
    {
     "ename": "UnitConversionError",
     "evalue": "Can only apply 'add' function to dimensionless quantities when other argument is not a quantity (unless the latter is all zero/infinity/nan)",
     "output_type": "error",
     "traceback": [
      "\u001b[0;31m---------------------------------------------------------------------------\u001b[0m",
      "\u001b[0;31mUnitConversionError\u001b[0m                       Traceback (most recent call last)",
      "Input \u001b[0;32mIn [45]\u001b[0m, in \u001b[0;36m<cell line: 1>\u001b[0;34m()\u001b[0m\n\u001b[0;32m----> 1\u001b[0m \u001b[43mresponse_func\u001b[49m\u001b[43m(\u001b[49m\u001b[38;5;241;43m1.0\u001b[39;49m\u001b[43m,\u001b[49m\u001b[43m \u001b[49m\u001b[38;5;241;43m1.2\u001b[39;49m\u001b[43m)\u001b[49m\n",
      "Input \u001b[0;32mIn [44]\u001b[0m, in \u001b[0;36mresponse_func\u001b[0;34m(x, y)\u001b[0m\n\u001b[1;32m      2\u001b[0m xscale \u001b[38;5;241m=\u001b[39m \u001b[38;5;241m0.9\u001b[39m \u001b[38;5;241m*\u001b[39m u\u001b[38;5;241m.\u001b[39marcsec\n\u001b[1;32m      3\u001b[0m yscale \u001b[38;5;241m=\u001b[39m \u001b[38;5;241m0.85\u001b[39m \u001b[38;5;241m*\u001b[39m u\u001b[38;5;241m.\u001b[39marcsec\n\u001b[0;32m----> 4\u001b[0m xfactor \u001b[38;5;241m=\u001b[39m \u001b[38;5;241m1\u001b[39m \u001b[38;5;241m/\u001b[39m (\u001b[38;5;241;43m1\u001b[39;49m\u001b[43m \u001b[49m\u001b[38;5;241;43m+\u001b[39;49m\u001b[43m \u001b[49m\u001b[43mx\u001b[49m\u001b[38;5;241;43m/\u001b[39;49m\u001b[43mxscale\u001b[49m)\n\u001b[1;32m      5\u001b[0m yfactor \u001b[38;5;241m=\u001b[39m \u001b[38;5;241m1\u001b[39m \u001b[38;5;241m/\u001b[39m (\u001b[38;5;241m1\u001b[39m \u001b[38;5;241m+\u001b[39m y\u001b[38;5;241m/\u001b[39myscale)\n\u001b[1;32m      7\u001b[0m \u001b[38;5;28;01mreturn\u001b[39;00m xfactor \u001b[38;5;241m*\u001b[39m yfactor\n",
      "File \u001b[0;32m/opt/hostedtoolcache/Python/3.9.13/x64/lib/python3.9/site-packages/astropy/units/quantity.py:591\u001b[0m, in \u001b[0;36mQuantity.__array_ufunc__\u001b[0;34m(self, function, method, *inputs, **kwargs)\u001b[0m\n\u001b[1;32m    569\u001b[0m \u001b[38;5;124;03m\"\"\"Wrap numpy ufuncs, taking care of units.\u001b[39;00m\n\u001b[1;32m    570\u001b[0m \n\u001b[1;32m    571\u001b[0m \u001b[38;5;124;03mParameters\u001b[39;00m\n\u001b[0;32m   (...)\u001b[0m\n\u001b[1;32m    585\u001b[0m \u001b[38;5;124;03m    Results of the ufunc, with the unit set properly.\u001b[39;00m\n\u001b[1;32m    586\u001b[0m \u001b[38;5;124;03m\"\"\"\u001b[39;00m\n\u001b[1;32m    587\u001b[0m \u001b[38;5;66;03m# Determine required conversion functions -- to bring the unit of the\u001b[39;00m\n\u001b[1;32m    588\u001b[0m \u001b[38;5;66;03m# input to that expected (e.g., radian for np.sin), or to get\u001b[39;00m\n\u001b[1;32m    589\u001b[0m \u001b[38;5;66;03m# consistent units between two inputs (e.g., in np.add) --\u001b[39;00m\n\u001b[1;32m    590\u001b[0m \u001b[38;5;66;03m# and the unit of the result (or tuple of units for nout > 1).\u001b[39;00m\n\u001b[0;32m--> 591\u001b[0m converters, unit \u001b[38;5;241m=\u001b[39m \u001b[43mconverters_and_unit\u001b[49m\u001b[43m(\u001b[49m\u001b[43mfunction\u001b[49m\u001b[43m,\u001b[49m\u001b[43m \u001b[49m\u001b[43mmethod\u001b[49m\u001b[43m,\u001b[49m\u001b[43m \u001b[49m\u001b[38;5;241;43m*\u001b[39;49m\u001b[43minputs\u001b[49m\u001b[43m)\u001b[49m\n\u001b[1;32m    593\u001b[0m out \u001b[38;5;241m=\u001b[39m kwargs\u001b[38;5;241m.\u001b[39mget(\u001b[38;5;124m'\u001b[39m\u001b[38;5;124mout\u001b[39m\u001b[38;5;124m'\u001b[39m, \u001b[38;5;28;01mNone\u001b[39;00m)\n\u001b[1;32m    594\u001b[0m \u001b[38;5;66;03m# Avoid loop back by turning any Quantity output into array views.\u001b[39;00m\n",
      "File \u001b[0;32m/opt/hostedtoolcache/Python/3.9.13/x64/lib/python3.9/site-packages/astropy/units/quantity_helper/converters.py:192\u001b[0m, in \u001b[0;36mconverters_and_unit\u001b[0;34m(function, method, *args)\u001b[0m\n\u001b[1;32m    190\u001b[0m             converters[i] \u001b[38;5;241m=\u001b[39m \u001b[38;5;28;01mNone\u001b[39;00m\n\u001b[1;32m    191\u001b[0m         \u001b[38;5;28;01melse\u001b[39;00m:\n\u001b[0;32m--> 192\u001b[0m             \u001b[38;5;28;01mraise\u001b[39;00m UnitConversionError(\n\u001b[1;32m    193\u001b[0m                 \u001b[38;5;124m\"\u001b[39m\u001b[38;5;124mCan only apply \u001b[39m\u001b[38;5;124m'\u001b[39m\u001b[38;5;132;01m{}\u001b[39;00m\u001b[38;5;124m'\u001b[39m\u001b[38;5;124m function to \u001b[39m\u001b[38;5;124m\"\u001b[39m\n\u001b[1;32m    194\u001b[0m                 \u001b[38;5;124m\"\u001b[39m\u001b[38;5;124mdimensionless quantities when other \u001b[39m\u001b[38;5;124m\"\u001b[39m\n\u001b[1;32m    195\u001b[0m                 \u001b[38;5;124m\"\u001b[39m\u001b[38;5;124margument is not a quantity (unless the \u001b[39m\u001b[38;5;124m\"\u001b[39m\n\u001b[1;32m    196\u001b[0m                 \u001b[38;5;124m\"\u001b[39m\u001b[38;5;124mlatter is all zero/infinity/nan)\u001b[39m\u001b[38;5;124m\"\u001b[39m\n\u001b[1;32m    197\u001b[0m                 \u001b[38;5;241m.\u001b[39mformat(function\u001b[38;5;241m.\u001b[39m\u001b[38;5;18m__name__\u001b[39m))\n\u001b[1;32m    198\u001b[0m \u001b[38;5;28;01mexcept\u001b[39;00m \u001b[38;5;167;01mTypeError\u001b[39;00m:\n\u001b[1;32m    199\u001b[0m     \u001b[38;5;66;03m# _can_have_arbitrary_unit failed: arg could not be compared\u001b[39;00m\n\u001b[1;32m    200\u001b[0m     \u001b[38;5;66;03m# with zero or checked to be finite. Then, ufunc will fail too.\u001b[39;00m\n\u001b[1;32m    201\u001b[0m     \u001b[38;5;28;01mraise\u001b[39;00m \u001b[38;5;167;01mTypeError\u001b[39;00m(\u001b[38;5;124m\"\u001b[39m\u001b[38;5;124mUnsupported operand type(s) for ufunc \u001b[39m\u001b[38;5;132;01m{}\u001b[39;00m\u001b[38;5;124m: \u001b[39m\u001b[38;5;124m\"\u001b[39m\n\u001b[1;32m    202\u001b[0m                     \u001b[38;5;124m\"\u001b[39m\u001b[38;5;124m'\u001b[39m\u001b[38;5;132;01m{}\u001b[39;00m\u001b[38;5;124m'\u001b[39m\u001b[38;5;124m\"\u001b[39m\u001b[38;5;241m.\u001b[39mformat(function\u001b[38;5;241m.\u001b[39m\u001b[38;5;18m__name__\u001b[39m,\n\u001b[1;32m    203\u001b[0m                                    \u001b[38;5;124m'\u001b[39m\u001b[38;5;124m,\u001b[39m\u001b[38;5;124m'\u001b[39m\u001b[38;5;241m.\u001b[39mjoin([arg\u001b[38;5;241m.\u001b[39m\u001b[38;5;18m__class__\u001b[39m\u001b[38;5;241m.\u001b[39m\u001b[38;5;18m__name__\u001b[39m\n\u001b[1;32m    204\u001b[0m                                              \u001b[38;5;28;01mfor\u001b[39;00m arg \u001b[38;5;129;01min\u001b[39;00m args])))\n",
      "\u001b[0;31mUnitConversionError\u001b[0m: Can only apply 'add' function to dimensionless quantities when other argument is not a quantity (unless the latter is all zero/infinity/nan)"
     ]
    }
   ],
   "source": [
    "response_func(1.0, 1.2)"
   ]
  },
  {
   "cell_type": "markdown",
   "metadata": {},
   "source": [
    "Which is their cue to provide the units explicitly:"
   ]
  },
  {
   "cell_type": "code",
   "execution_count": 46,
   "metadata": {
    "execution": {
     "iopub.execute_input": "2022-08-24T19:09:45.868136Z",
     "iopub.status.busy": "2022-08-24T19:09:45.867656Z",
     "iopub.status.idle": "2022-08-24T19:09:45.875363Z",
     "shell.execute_reply": "2022-08-24T19:09:45.874757Z"
    }
   },
   "outputs": [
    {
     "data": {
      "text/latex": [
       "$0.0001724307 \\; \\mathrm{}$"
      ],
      "text/plain": [
       "<Quantity 0.00017243>"
      ]
     },
     "execution_count": 46,
     "metadata": {},
     "output_type": "execute_result"
    }
   ],
   "source": [
    "response_func(1.0*u.arcmin, 1.2*u.arcmin)"
   ]
  },
  {
   "cell_type": "markdown",
   "metadata": {},
   "source": [
    "The funding agency is impressed at the resolution you achieved, and your instrument is saved!  You now go on to win the Nobel Prize due to discoveries the instrument makes.  And it was all because you used `Quantity` as the input of code you shared."
   ]
  },
  {
   "cell_type": "markdown",
   "metadata": {},
   "source": [
    "## Exercise"
   ]
  },
  {
   "cell_type": "markdown",
   "metadata": {},
   "source": [
    "Write a function that computes the Keplerian velocity you worked out in section 1 (using `Quantity` input and outputs, of course), but allowing for an arbitrary mass and orbital radius.  Try it with some reasonable numbers for satellites orbiting the Earth, a moon of Jupiter, or an extrasolar planet.  Feel free to use wikipedia or similar for the masses and distances.  "
   ]
  },
  {
   "cell_type": "code",
   "execution_count": null,
   "metadata": {},
   "outputs": [],
   "source": []
  }
 ],
 "metadata": {
  "astropy-tutorials": {
   "author": "Ana Bonaca <ana.bonaca@yale.edu>, Erik Tollerud <erik.tollerud@yale.edu>, Jonathan Foster <jonathan.b.foster@yale.edu>",
   "date": "April 2014",
   "description": "Demonstrates use of the astropy.units, astropy.constants, and the Quantity object for calculating the mass of a galaxy from its velocity dispersion and determining masses of molecular clouds from CO intensity maps. Includes use of matplotlib for making a histogram and an image with a colorbar. Also includes good practices for using quantities in functions you might distribute to other people.",
   "link_name": "Using Astropy Quantities for astrophysical calculations",
   "name": "",
   "published": true
  },
  "language_info": {
   "codemirror_mode": {
    "name": "ipython",
    "version": 3
   },
   "file_extension": ".py",
   "mimetype": "text/x-python",
   "name": "python",
   "nbconvert_exporter": "python",
   "pygments_lexer": "ipython3",
   "version": "3.9.13"
  }
 },
 "nbformat": 4,
 "nbformat_minor": 4
}
